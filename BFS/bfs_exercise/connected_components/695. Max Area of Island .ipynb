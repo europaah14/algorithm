{
 "cells": [
  {
   "attachments": {},
   "cell_type": "markdown",
   "metadata": {},
   "source": [
    "### 695. Max Area of Island"
   ]
  },
  {
   "attachments": {},
   "cell_type": "markdown",
   "metadata": {},
   "source": [
    "You are given an `m x n` binary matrix `grid`. An island is a group of `1`'s (representing land) connected 4-directionally (horizontal or vertical.) You may assume all four edges of the grid are surrounded by water.\n",
    "\n",
    "The area of an island is the number of cells with a value `1` in the island.\n",
    "\n",
    "Return the maximum area of an island in `grid`. If there is no island, return `0`."
   ]
  },
  {
   "attachments": {},
   "cell_type": "markdown",
   "metadata": {},
   "source": [
    "<ins>Logic<ins>\n",
    "\n",
    "This is a standard *Connected Components* problem, which can be solved by standard procedure using **BFS Algorithm**\n",
    "\n",
    "<br>\n",
    "\n",
    "Suppose $m$ and $n$ represent the number of rows and cols in `grid`\n",
    "\n",
    "Time Complexity: $O(m \\times n)$\n",
    "\n",
    "- For every land cell, it will take $O(E + V) = O(4 + 1) = O(1)$ to find its neighbour\n",
    "\n",
    "- In total $\\Rightarrow O(m \\times n \\times 1) = O(m \\times n)$\n",
    "\n",
    "Space Complexity: $O(m \\times n)$"
   ]
  },
  {
   "cell_type": "code",
   "execution_count": 4,
   "metadata": {},
   "outputs": [],
   "source": [
    "from collections import deque\n",
    "\n",
    "def is_valid_land(grid, row, col, visited):\n",
    "    # check if grid[row][col] is a valid land\n",
    "    nrow, ncol = len(grid), len(grid[0])\n",
    "\n",
    "    return (\n",
    "        0 <= row < nrow and \n",
    "        0 <= col < ncol and\n",
    "        grid[row][col] == 1 and\n",
    "        (row, col) not in visited\n",
    "    )\n",
    "\n",
    "def bfs(grid, row_start, col_start, visited):\n",
    "    '''\n",
    "    Explore grid, update land coord in visited set and return area of islands\n",
    "    '''\n",
    "    directions = [(1, 0), (-1, 0), (0, 1), (0, -1)]\n",
    "    queue = deque([(row_start, col_start)])\n",
    "    visited.add((row_start, col_start))\n",
    "    area = 0\n",
    "\n",
    "    while queue:\n",
    "        row_curr, col_curr = queue.popleft()\n",
    "        area += 1\n",
    "\n",
    "        for drow, dcol in directions:\n",
    "            # get connected coord\n",
    "            row_new = row_curr + drow\n",
    "            col_new = col_curr + dcol\n",
    "\n",
    "            # put new coord to queue and visited\n",
    "            if is_valid_land(grid, row_new, col_new, visited):\n",
    "                queue.append((row_new, col_new))\n",
    "                visited.add((row_new, col_new))\n",
    "    \n",
    "    return area\n",
    "\n",
    "def maxAreaOfIsland(grid):\n",
    "    nrow, ncol = len(grid), len(grid[0])\n",
    "    max_area = 0\n",
    "    visited = set()\n",
    "\n",
    "    for row in range(nrow):\n",
    "        for col in range(ncol):\n",
    "            if not is_valid_land(grid, row, col, visited):\n",
    "                continue\n",
    "            max_area = max(max_area, bfs(grid, row, col, visited))\n",
    "    \n",
    "    return max_area"
   ]
  }
 ],
 "metadata": {
  "kernelspec": {
   "display_name": "ml",
   "language": "python",
   "name": "python3"
  },
  "language_info": {
   "codemirror_mode": {
    "name": "ipython",
    "version": 3
   },
   "file_extension": ".py",
   "mimetype": "text/x-python",
   "name": "python",
   "nbconvert_exporter": "python",
   "pygments_lexer": "ipython3",
   "version": "3.10.11"
  },
  "orig_nbformat": 4
 },
 "nbformat": 4,
 "nbformat_minor": 2
}

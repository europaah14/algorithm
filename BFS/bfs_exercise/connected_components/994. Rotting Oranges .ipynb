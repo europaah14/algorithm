{
 "cells": [
  {
   "attachments": {},
   "cell_type": "markdown",
   "metadata": {},
   "source": [
    " ### 994. Rotting Oranges"
   ]
  },
  {
   "attachments": {},
   "cell_type": "markdown",
   "metadata": {},
   "source": [
    "You are given an `m x n` `grid` where each cell can have one of three values:\n",
    "\n",
    "- `0` representing an empty cell\n",
    "\n",
    "- `1` representing a fresh orange\n",
    "\n",
    "- `2` representing a rotten orange\n",
    "\n",
    "Every minute, any fresh orange that is 4-directionally adjacent to a rotten orange becomes rotten.\n",
    "\n",
    "Return the minimum number of minutes that must elapse until no cell has a fresh orange. If this is impossible, return `-1`."
   ]
  },
  {
   "attachments": {},
   "cell_type": "markdown",
   "metadata": {},
   "source": [
    "<ins>Logic<ins>\n",
    "\n",
    "This is a *Connected Component* problem\n",
    "\n",
    "- At initialization stage, put all the **rotten oranges** in `queue` as starting nodes\n",
    "\n",
    "- After the **same level** of **rotten oranges** being processed, check if `queue` is empty\n",
    "\n",
    "    - If `queue` is not empty $\\Rightarrow$ **there are new fresh oranges being rotten**, set `time += 1`\n",
    "\n",
    "    - If `queue` is empty $\\Rightarrow$ **there are no new fresh oranges being rotten**, no need to increment `time` and **BFS** is complete\n",
    "\n",
    "- After all feasible oranges are rotten, check if there are **fresh oranges** left\n",
    "\n",
    "<br>\n",
    "\n",
    "Time Complexity: $O(m \\times n)$ \n",
    "\n",
    "- Each vertex has contant number of edges, and $m \\times n$ is the max number of vertices\n",
    "\n",
    "Space Complexity: $O(m \\times n)$"
   ]
  },
  {
   "cell_type": "code",
   "execution_count": 25,
   "metadata": {},
   "outputs": [],
   "source": [
    "from collections import deque\n",
    "\n",
    "def is_fresh_orange(grid, row, col, rotten_set):\n",
    "    '''\n",
    "    Determine if grid[row][col] is a fresh orange\n",
    "    '''\n",
    "    nrow, ncol = len(grid), len(grid[0])\n",
    "\n",
    "    return (\n",
    "        0 <= row < nrow and\n",
    "        0 <= col < ncol and\n",
    "        grid[row][col] == 1 and\n",
    "        (row, col) not in rotten_set\n",
    "    )\n",
    "\n",
    "def orangesRotting(grid):\n",
    "    # init\n",
    "    nrow, ncol = len(grid), len(grid[0])\n",
    "    n_fresh = 0\n",
    "    time = 0\n",
    "    queue = deque()\n",
    "    # record fresh oranges that have been rotten\n",
    "    rotten_set = set()\n",
    "    directions = [(1, 0), (-1, 0), (0, 1), (0, -1)]\n",
    "\n",
    "    # compute n_fresh and init queue\n",
    "    for row in range(nrow):\n",
    "        for col in range(ncol):\n",
    "            # check fresh \n",
    "            if grid[row][col] == 1:\n",
    "                n_fresh += 1\n",
    "            \n",
    "            # check rotten\n",
    "            elif grid[row][col] == 2:\n",
    "                queue.append((row, col))\n",
    "\n",
    "    # bfs\n",
    "    while queue:\n",
    "        for _ in range(len(queue)):\n",
    "            row, col = queue.popleft()\n",
    "            # rotten surrounding\n",
    "            for drow, dcol in directions:\n",
    "                row_next = row + drow\n",
    "                col_next = col + dcol\n",
    "\n",
    "                # check if orange is fresh\n",
    "                if not is_fresh_orange(grid, row_next, col_next, rotten_set):\n",
    "                    continue\n",
    "                \n",
    "                # update queue, rotten_set and n_fresh\n",
    "                queue.append((row_next, col_next))\n",
    "                rotten_set.add((row_next, col_next))\n",
    "                n_fresh -= 1\n",
    "\n",
    "        # check if any fresh orange is rotten\n",
    "        if queue:\n",
    "            time += 1\n",
    "\n",
    "    return -1 if n_fresh > len(rotten_set) else time"
   ]
  }
 ],
 "metadata": {
  "kernelspec": {
   "display_name": "ml",
   "language": "python",
   "name": "python3"
  },
  "language_info": {
   "codemirror_mode": {
    "name": "ipython",
    "version": 3
   },
   "file_extension": ".py",
   "mimetype": "text/x-python",
   "name": "python",
   "nbconvert_exporter": "python",
   "pygments_lexer": "ipython3",
   "version": "3.10.11"
  },
  "orig_nbformat": 4
 },
 "nbformat": 4,
 "nbformat_minor": 2
}

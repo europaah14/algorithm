{
 "cells": [
  {
   "attachments": {},
   "cell_type": "markdown",
   "metadata": {},
   "source": [
    "### 127. Word Ladder "
   ]
  },
  {
   "attachments": {},
   "cell_type": "markdown",
   "metadata": {},
   "source": [
    "A transformation sequence from word `beginWord` to word `endWord` using a dictionary `wordList` is a sequence of words `beginWord -> s1 -> s2 -> ... -> sk` such that:\n",
    "\n",
    "- Every adjacent pair of words differs by a single letter.\n",
    "\n",
    "- Every `si` for `1 <= i <= k` is in `wordList`. Note that `beginWord` does not need to be in `wordList`.\n",
    "\n",
    "- `sk == endWord`\n",
    "\n",
    "Given two words, `beginWord` and `endWord`, and a dictionary `wordList`, return the number of words in the shortest transformation sequence from `beginWord` to `endWord`, or `0` if no such sequence exists."
   ]
  },
  {
   "attachments": {},
   "cell_type": "markdown",
   "metadata": {},
   "source": [
    "<ins>Logic<ins>\n",
    "\n",
    "This is a standard *Shortest Path* problem, which can be considered as *Simple Graph* as long as we only focus on 1 step of transformation at a time.\n",
    "\n",
    "The only variation is how to find the connect nodes from `wordList`, i.e., the word that can be reached by only 1 step of transformation\n",
    "\n",
    "- Define a function `transformable_words(word, wordList)` which retuns all the words from `wordList` that require only one step of transformation from `word`\n",
    "\n",
    "    - Initialize a list `result`\n",
    "    \n",
    "    - Enumerate all 1-step transformable words from `word`\n",
    "\n",
    "    - Append all the transformable words that are in `wordList` to `result`\n",
    "\n",
    "    - `return result`\n",
    "\n",
    "    Note: we can also compare each word with all the words in `wordList` and check if it's transformable, but it is slower $O(nL)$\n",
    "\n",
    "- Use **BFS algorithm** and `transformable_words` to find the shortest path\n",
    "\n",
    "<br>\n",
    "\n",
    "Suppose $L$ represents the length of `word` and $n$ represents the number of words in `wordList`\n",
    "\n",
    "Time Complexity:\n",
    "\n",
    "- `is_transformable_words`: $O(L^2)$\n",
    "\n",
    "- `main`: $O(n + nL^2 + 26L) = O(nL^2)$\n",
    "\n",
    "    For each vertex (for $1, \\cdots, n$), we'll do:\n",
    "\n",
    "    - access vertex $O(1)$\n",
    "\n",
    "    - get vertex's edge list $O(L^2)$\n",
    "\n",
    "    - access all edges: $O(26L)$\n",
    "\n",
    "        - Suppose each vertex can connect to all feasible edges, i.e., max = $26L$, not $n$\n",
    "\n",
    "Space Complexity: $O(n)$"
   ]
  },
  {
   "cell_type": "code",
   "execution_count": 16,
   "metadata": {},
   "outputs": [
    {
     "data": {
      "text/plain": [
       "5"
      ]
     },
     "execution_count": 16,
     "metadata": {},
     "output_type": "execute_result"
    }
   ],
   "source": [
    "from collections import deque\n",
    "\n",
    "def transformable_words(word, wordset):\n",
    "    '''\n",
    "    Based on word, return a list of 1-step transformable words from wordset\n",
    "    '''\n",
    "    result = []\n",
    "    for index, char in enumerate(word):\n",
    "        # get word segments that do not transform\n",
    "        left, right = word[:index], word[index + 1:] # O(L)\n",
    "\n",
    "        # iterate over all letters in alphabet\n",
    "        for letter in 'abcdefghijklmnopqrstuvwxyz':\n",
    "            if letter == char:\n",
    "                continue\n",
    "            \n",
    "            # new word transformed from word\n",
    "            word_new = left + letter + right # O(L)\n",
    "            \n",
    "            # check if this exists in wordset\n",
    "            if word_new in wordset: # O(L)\n",
    "                result.append(word_new)\n",
    "    \n",
    "    return result\n",
    "\n",
    "def ladderLength(beginWord, endWord, wordList):\n",
    "    # initialize\n",
    "    wordset = set(wordList)\n",
    "    queue = deque([beginWord])\n",
    "    # since we need the no of words -> init as 1 instead of 0\n",
    "    distance = {beginWord: 1}\n",
    "\n",
    "    # bfs\n",
    "    while queue:\n",
    "        word_curr = queue.popleft()\n",
    "        \n",
    "        # explore 1-step transformable words\n",
    "        for word in transformable_words(word_curr, wordset):\n",
    "            # skip words that has been transformed before\n",
    "            if word in distance:\n",
    "                continue\n",
    "            \n",
    "            # check if matches\n",
    "            if word == endWord:\n",
    "                return distance[word_curr] + 1\n",
    "\n",
    "            # put into queue and distance\n",
    "            queue.append(word)\n",
    "            distance[word] = distance[word_curr] + 1\n",
    "    \n",
    "    return 0"
   ]
  }
 ],
 "metadata": {
  "kernelspec": {
   "display_name": "ml",
   "language": "python",
   "name": "python3"
  },
  "language_info": {
   "codemirror_mode": {
    "name": "ipython",
    "version": 3
   },
   "file_extension": ".py",
   "mimetype": "text/x-python",
   "name": "python",
   "nbconvert_exporter": "python",
   "pygments_lexer": "ipython3",
   "version": "3.10.11"
  },
  "orig_nbformat": 4
 },
 "nbformat": 4,
 "nbformat_minor": 2
}

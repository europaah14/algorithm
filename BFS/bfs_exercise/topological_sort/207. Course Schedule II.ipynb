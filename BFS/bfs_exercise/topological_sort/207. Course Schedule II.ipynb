{
 "cells": [
  {
   "attachments": {},
   "cell_type": "markdown",
   "metadata": {},
   "source": [
    "### 207. Course Schedule II"
   ]
  },
  {
   "attachments": {},
   "cell_type": "markdown",
   "metadata": {},
   "source": [
    "There are a total of `numCourses` courses you have to take, labeled from `0` to `numCourses - 1`. You are given an array `prerequisites` where `prerequisites[i] = [ai, bi]` indicates that you must take course `bi` first if you want to take course `ai`.\n",
    "\n",
    "For example, the pair `[0, 1]`, indicates that to take course `0` you have to first take course `1`.\n",
    "\n",
    "Return the ordering of courses you should take to finish all courses. If there are many valid answers, return any of them. If it is impossible to finish all courses, return an empty array."
   ]
  },
  {
   "attachments": {},
   "cell_type": "markdown",
   "metadata": {},
   "source": [
    "<ins>Logic<ins>\n",
    "\n",
    "This is a standard *Topololgical Sort* problem. \n",
    "\n",
    "Since the node value is a consecutive sequence starting from `0`, we can use array to store **adjacent list** and **in-degree**\n",
    "\n",
    "<br>\n",
    "\n",
    "Suppose $n$ is the total number of nodes (courses)\n",
    "\n",
    "Time Complexity: $O(n + n^2) = O(n^2)$ \n",
    "\n",
    "- where $n^2$ is due to the max number of edges are $0 + 1 + \\cdots + (n-1) = \\frac{n(n-1)}{2}$\n",
    "\n",
    "- $1^{st}$ node has $n-1$ directed edges,\n",
    "\n",
    "    $2^{nd}$ node has $n-2$ directed edges,\n",
    "\n",
    "    $\\vdots$\n",
    "    \n",
    "    $n^{th}$ node has $0$ directed edges\n",
    "\n",
    "Space Complexity: $O(n)$"
   ]
  },
  {
   "cell_type": "code",
   "execution_count": 14,
   "metadata": {},
   "outputs": [],
   "source": [
    "from collections import deque\n",
    "\n",
    "def findOrder(numCourses, prerequisites):\n",
    "    # construct adjacent list and compute in_degree\n",
    "    adj_list = [[] for _ in range(numCourses)]\n",
    "    in_degree = [0] * numCourses\n",
    "    for course_next, course_pre in prerequisites:\n",
    "        adj_list[course_pre].append(course_next)\n",
    "        in_degree[course_next] += 1\n",
    "\n",
    "    # init queue and result\n",
    "    queue = deque(\n",
    "        filter(lambda course: not in_degree[course], range(numCourses))\n",
    "    )\n",
    "    # alternative way of filtering in_degree == 0\n",
    "    # queue = deque(course for course in range(numCourses) if not in_degree[course])\n",
    "    result = []\n",
    "\n",
    "    while queue:\n",
    "        course_curr = queue.popleft()\n",
    "        result.append(course_curr)\n",
    "        # update in_degree\n",
    "        for course_next in adj_list[course_curr]:\n",
    "            in_degree[course_next] -= 1\n",
    "            # add to queue if in_degree == 0\n",
    "            if not in_degree[course_next]:\n",
    "                queue.append(course_next)\n",
    "\n",
    "    return [] if max(in_degree) else result"
   ]
  }
 ],
 "metadata": {
  "kernelspec": {
   "display_name": "ml",
   "language": "python",
   "name": "python3"
  },
  "language_info": {
   "codemirror_mode": {
    "name": "ipython",
    "version": 3
   },
   "file_extension": ".py",
   "mimetype": "text/x-python",
   "name": "python",
   "nbconvert_exporter": "python",
   "pygments_lexer": "ipython3",
   "version": "3.10.11"
  },
  "orig_nbformat": 4
 },
 "nbformat": 4,
 "nbformat_minor": 2
}

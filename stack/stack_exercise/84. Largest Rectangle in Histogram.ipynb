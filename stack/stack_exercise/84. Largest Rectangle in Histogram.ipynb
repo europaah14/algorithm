{
 "cells": [
  {
   "cell_type": "markdown",
   "metadata": {},
   "source": [
    "### 84. Largest Rectangle in Histogram\n",
    "\n",
    "Given an array of integers `heights` representing the histogram's bar height where the width of each bar is 1, return the area of the largest rectangle in the histogram."
   ]
  },
  {
   "cell_type": "markdown",
   "metadata": {},
   "source": [
    "<ins>Logic<ins>\n",
    "\n",
    "**Approach 1: Brute Force**\n",
    "\n",
    "For each bar of the instagram, we want to calculate the maximum possible retangle if the current height is used. We can achieve this by extending the width until such width cannot form a valid rectangle.\n",
    "\n",
    "1. Initialize variable `max_area`\n",
    "\n",
    "2. For each height `heights[i]`, do:\n",
    "\n",
    "    - Find the start index of width: starting at current index `i`, move the index to the left and find the last index `j` such that `heights[j] >= heights[i]`\n",
    "    \n",
    "        Find the end index of width: starting at current index `i`, move the index to the right and find the last index `k` such that `heights[k] >= heights[i]`\n",
    "\n",
    "    - The maximum rectangle constructed by using height `heights[i]` has area of `(k - j + 1) * heights[i]` $\\Rightarrow$ update `max_area`\n",
    "\n",
    "4. Return `max_area`\n",
    "\n",
    "<br><br>\n",
    "\n",
    "However, in order to find the longest width for each `heights[i]`, we need to look at all the heights every time, which yields \n",
    "\n",
    "Time complexity: $O(n^2)$ \n",
    "\n",
    "Space complexity $O(1)$\n",
    "\n",
    "<br><br>\n",
    "\n",
    "**Approach 2: Monotonic Stack**\n",
    "\n",
    "To optimize approach 1, we need to make sure that we do not look at all heights for each `height[i]`. \n",
    "\n",
    "Instead, we need to maintain a stack, where each element in this stack represents a potential rectangle (represented by **start index** and corresponding height). We can find the **end index** and calculate the rectangle area by utilizing the property of stack as follow:\n",
    "\n",
    "1. Initialize `stack` and `max_area`, where element in `stack` will have the format of (height, start_index)\n",
    "\n",
    "2. For each index `i` and height `heights[i]`, do:\n",
    "\n",
    "    - If `heights[i]` is greater than or equal to the last height stored in `stack`\n",
    "\n",
    "        $\\Rightarrow$ We haven't found the end index for any of the rectangles in `stack` (monotonic stack), **as the every potential rectangle can keep extending to the right**\n",
    "\n",
    "        $\\Rightarrow$ push `(heights[i], i)` to `stack`\n",
    "\n",
    "\n",
    "    - If `heights[i]` is less than the last height stored in stack\n",
    "\n",
    "        $\\Rightarrow$ Some of the rectangles in `stack` cannot further extend to the right\n",
    "\n",
    "        $\\Rightarrow$ Pop all the enclosed rectangle (the ones with height greater than current height), calculate the area and update the maximum area variable\n",
    "\n",
    "        $\\Rightarrow$ Push current height and **new start index** to `stack` (note the new start index should equal to the start index of the last popped element, since the rectangle can start at the start index of the last popped rectangle)\n",
    "\n",
    "3. If `stack` is not empty, calculate their corresponding area.\n",
    "\n",
    "    Note we can alternatively add a 0 to heights at the end, so that every height left in stack will have to end.\n",
    "\n",
    "4. Return `max_area`\n"
   ]
  },
  {
   "cell_type": "code",
   "execution_count": 59,
   "metadata": {},
   "outputs": [],
   "source": [
    "# Approach 1\n",
    "\n",
    "def largestRectangleArea_1(heights):\n",
    "    max_area = 0\n",
    "    for index, height in enumerate(heights):\n",
    "        left = right = index\n",
    "        \n",
    "        # look for start index\n",
    "        while left >= 0 and heights[left] >= height:\n",
    "            left -= 1\n",
    "\n",
    "        # look for right index\n",
    "        while right < len(heights) and heights[right] >= height:\n",
    "            right += 1\n",
    "\n",
    "        max_area = max(max_area, height * (right - left - 1))\n",
    "\n",
    "    return max_area"
   ]
  },
  {
   "cell_type": "code",
   "execution_count": 62,
   "metadata": {},
   "outputs": [],
   "source": [
    "# Approach 2\n",
    "\n",
    "def largestRectangleArea_2(heights):\n",
    "    stack = []\n",
    "    max_area = 0\n",
    "\n",
    "    for index, height in enumerate(heights):\n",
    "        # set start index for rectangle\n",
    "        start_index = index\n",
    "        while stack and height < stack[-1][0]: # index - 1 is the end index\n",
    "            # pop & reset start index\n",
    "            used_height, start_index = stack.pop()\n",
    "            # calculate and update area\n",
    "            max_area = max(max_area, used_height * (index - start_index))\n",
    "        \n",
    "        stack.append((height, start_index))\n",
    "    \n",
    "    # This is to calc area for those rectangle that haven't met the end index.\n",
    "    # Note alternatively we can push 0 to heights to the end in the beginning, \n",
    "    # so this 0 provides end index to every rectangle\n",
    "    for height, start_index in stack:\n",
    "        max_area = max(max_area, height * (len(heights) - start_index))\n",
    "\n",
    "    return max_area\n"
   ]
  },
  {
   "cell_type": "code",
   "execution_count": 73,
   "metadata": {},
   "outputs": [
    {
     "name": "stdout",
     "output_type": "stream",
     "text": [
      "Test0\n",
      "Approach 1: 10\n",
      "Approach 2: 10\n",
      "\n",
      "Test1\n",
      "Approach 1: 30\n",
      "Approach 2: 30\n",
      "\n",
      "Test2\n",
      "Approach 1: 30\n",
      "Approach 2: 30\n",
      "\n",
      "Test2\n",
      "Approach 1: 24\n",
      "Approach 2: 24\n",
      "\n"
     ]
    },
    {
     "data": {
      "image/png": "[encoded data removed]",
      "text/plain": [
       "<Figure size 900x100 with 1 Axes>"
      ]
     },
     "metadata": {},
     "output_type": "display_data"
    },
    {
     "data": {
      "image/png": "[encoded data removed]",
      "text/plain": [
       "<Figure size 1050x100 with 1 Axes>"
      ]
     },
     "metadata": {},
     "output_type": "display_data"
    },
    {
     "data": {
      "image/png": "[encoded data removed]",
      "text/plain": [
       "<Figure size 1050x100 with 1 Axes>"
      ]
     },
     "metadata": {},
     "output_type": "display_data"
    },
    {
     "data": {
      "image/png": "[encoded data removed]",
      "text/plain": [
       "<Figure size 1350x100 with 1 Axes>"
      ]
     },
     "metadata": {},
     "output_type": "display_data"
    }
   ],
   "source": [
    "# test function\n",
    "import matplotlib.pyplot as plt\n",
    "\n",
    "def test(heights, test_name = ''):\n",
    "    print(test_name)\n",
    "    # show histogram\n",
    "    plt.figure(figsize=(len(heights) * 1.5, 1))\n",
    "    plt.bar(range(len(heights)), heights, width=1, edgecolor='black')\n",
    "    plt.title(test_name)\n",
    "    plt.xlabel('Index')\n",
    "    for idx, h in enumerate(heights):\n",
    "        plt.text(idx, h, int(h), ha='center', color='red')\n",
    "        \n",
    "    # show result\n",
    "    print(f'Approach 1: {largestRectangleArea_1(heights)}')\n",
    "    print(f'Approach 2: {largestRectangleArea_2(heights)}\\n')\n",
    "\n",
    "# test0\n",
    "test([2,1,5,6,2,3], test_name = 'Test0')\n",
    "\n",
    "# test1 - all increasing\n",
    "test([0,2,4,5,10,12,14], test_name = 'Test1')\n",
    "\n",
    "# test2 - all decreasing\n",
    "test([0,2,4,5,10,12,14][::-1], test_name = 'Test2')\n",
    "\n",
    "# test2 - some flat\n",
    "test([1,2,3,4,4,4,5,6,4], test_name = 'Test2')"
   ]
  }
 ],
 "metadata": {
  "kernelspec": {
   "display_name": "base",
   "language": "python",
   "name": "python3"
  },
  "language_info": {
   "codemirror_mode": {
    "name": "ipython",
    "version": 3
   },
   "file_extension": ".py",
   "mimetype": "text/x-python",
   "name": "python",
   "nbconvert_exporter": "python",
   "pygments_lexer": "ipython3",
   "version": "3.10.11"
  }
 },
 "nbformat": 4,
 "nbformat_minor": 2
}

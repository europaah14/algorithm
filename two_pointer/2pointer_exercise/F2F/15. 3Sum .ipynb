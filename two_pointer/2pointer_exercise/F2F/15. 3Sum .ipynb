{
 "cells": [
  {
   "attachments": {},
   "cell_type": "markdown",
   "metadata": {},
   "source": [
    "### 15. 3Sum"
   ]
  },
  {
   "attachments": {},
   "cell_type": "markdown",
   "metadata": {},
   "source": [
    "Given an integer array `nums`, return all the triplets `[nums[i], nums[j], nums[k]]` such that `i != j`, `i != k`, and `j != k`, and `nums[i] + nums[j] + nums[k] == 0`\n",
    "\n",
    "Notice that the solution set must not contain duplicate triplets."
   ]
  },
  {
   "attachments": {},
   "cell_type": "markdown",
   "metadata": {},
   "source": [
    "<ins>Logic:<ins>\n",
    "\n",
    "We can convert this problem to a `Two Sum` problem by:\n",
    "\n",
    "1. Sort `nums`\n",
    "\n",
    "2. For each `index`: \n",
    "\n",
    "    Find all the pairs `num1, num2` from `nums[index + 1:]` s.t `num1 + num2 == -nums[index]` \n",
    "\n",
    "    $\\Rightarrow$ `[nums[index], num1, num2]` is a valid triplet\n",
    "\n",
    "3. Since `nums` is **sorted**, so removing duplicated triplets can be done by:\n",
    "\n",
    "    Remove duplicated pairs, `num1, num2`\n",
    "\n",
    "    Remove duplicated `nums[index]`\n",
    "\n",
    "<br>\n",
    "\n",
    "Time Complexity: $O(nlogn + n^2)$\n",
    "\n",
    "Space Complexity: $O(k)$, where $k$ is the number of triplets in final answer"
   ]
  },
  {
   "cell_type": "code",
   "execution_count": 1,
   "metadata": {},
   "outputs": [],
   "source": [
    "def two_sum(nums, target):\n",
    "    # initialize result list and pointers\n",
    "    result = []\n",
    "    left, right = 0, len(nums) - 1\n",
    "    \n",
    "    while left < right:\n",
    "        # compute sum\n",
    "        sum_val = nums[left] + nums[right]\n",
    "\n",
    "        if sum_val > target:\n",
    "            right -= 1\n",
    "        \n",
    "        elif sum_val < target:\n",
    "            left += 1\n",
    "        \n",
    "        else:\n",
    "            result.append([nums[left], nums[right]])\n",
    "            left += 1\n",
    "            right -= 1\n",
    "            \n",
    "            # skip duplicate\n",
    "            while left < right and nums[left] == nums[left - 1]:\n",
    "                left += 1\n",
    "            while left < right and nums[right] == nums[right + 1]:\n",
    "                right -= 1\n",
    "\n",
    "    return result\n",
    "\n",
    "def threeSum(nums):\n",
    "    # edge case\n",
    "    if len(nums) < 3:\n",
    "        return []\n",
    "\n",
    "    # initialize result list\n",
    "    result = []\n",
    "\n",
    "    # sort nums (use sorted if mutate nums is not allowed)\n",
    "    nums.sort()\n",
    "\n",
    "    # find triplets\n",
    "    for index in range(len(nums) - 2):\n",
    "        # skip duplicates\n",
    "        if index > 0 and nums[index] == nums[index - 1]:\n",
    "            continue\n",
    "\n",
    "        for pair in two_sum(nums[index + 1:], -nums[index]):\n",
    "            result.append([nums[index], *pair])\n",
    "    \n",
    "    return result\n",
    "\n",
    "def test(nums, test_name=''):\n",
    "    print(test_name, nums, sep='\\n')\n",
    "    print(threeSum(nums), '\\n')"
   ]
  },
  {
   "cell_type": "code",
   "execution_count": 2,
   "metadata": {},
   "outputs": [
    {
     "name": "stdout",
     "output_type": "stream",
     "text": [
      "Test: edge case\n",
      "[0, 0]\n",
      "[] \n",
      "\n",
      "Test: all 0\n",
      "[0, 0, 0, 0, 0]\n",
      "[[0, 0, 0]] \n",
      "\n",
      "Test: multiple triplets with no duplicated triplets\n",
      "[0, 3, -2, 0, -4, 0, 0, -1]\n",
      "[[-2, -1, 3], [0, 0, 0]] \n",
      "\n",
      "Test: multiple triplets with duplicated triplets\n",
      "[0, 0, 3, -2, 0, -4, 0, 3, -2, 0, -1, -1]\n",
      "[[-2, -1, 3], [0, 0, 0]] \n",
      "\n"
     ]
    }
   ],
   "source": [
    "test([0,0], 'Test: edge case')\n",
    "\n",
    "test([0,0,0,0,0], 'Test: all 0')\n",
    "\n",
    "test([0,3,-2,0,-4,0,0,-1], 'Test: multiple triplets with no duplicated triplets')\n",
    "\n",
    "test([0,0,3,-2,0,-4,0,3,-2,0,-1,-1], 'Test: multiple triplets with duplicated triplets')"
   ]
  },
  {
   "attachments": {},
   "cell_type": "markdown",
   "metadata": {},
   "source": [
    "### Follow-up\n",
    "\n",
    "Find these triplets if **sorting is not allowed**"
   ]
  },
  {
   "attachments": {},
   "cell_type": "markdown",
   "metadata": {},
   "source": [
    "<ins>Logic:<ins>\n",
    "\n",
    "1. Use **hashset** `seen` to store the values that have been seen (Just like the typical solution to *Two Sum* Problem)\n",
    "\n",
    "    - Need to empty `seen` for each interation on the first number in case of double-count <br><br>\n",
    "\n",
    "2. Find the valid triplets based on `seen`, and put them into hashset to remove duplicated triplets\n",
    "\n",
    "<br>\n",
    "\n",
    "Time Complexity: $O(n^2)$\n",
    "\n",
    "Space Complecity: $O(n)$ due to `seen`"
   ]
  },
  {
   "cell_type": "code",
   "execution_count": 30,
   "metadata": {},
   "outputs": [],
   "source": [
    "def three_sum_nonsort(nums):\n",
    "    # initialize result set\n",
    "    result = set()\n",
    "    for index1 in range(len(nums) - 2):\n",
    "        # for each new index1, use a new set to track seen value\n",
    "        seen = set()\n",
    "        for index2 in range(index1 + 1, len(nums)):\n",
    "            # look for the complement that have been seen (cannot include nums[index])\n",
    "            complement = -nums[index1] - nums[index2]\n",
    "            if complement in seen:\n",
    "                result.add(tuple(sorted([nums[index1], nums[index2], complement])))\n",
    "\n",
    "            seen.add(nums[index2])\n",
    "    \n",
    "    return [list(triplet) for triplet in result]"
   ]
  }
 ],
 "metadata": {
  "kernelspec": {
   "display_name": "ml",
   "language": "python",
   "name": "python3"
  },
  "language_info": {
   "codemirror_mode": {
    "name": "ipython",
    "version": 3
   },
   "file_extension": ".py",
   "mimetype": "text/x-python",
   "name": "python",
   "nbconvert_exporter": "python",
   "pygments_lexer": "ipython3",
   "version": "3.10.11"
  },
  "orig_nbformat": 4
 },
 "nbformat": 4,
 "nbformat_minor": 2
}

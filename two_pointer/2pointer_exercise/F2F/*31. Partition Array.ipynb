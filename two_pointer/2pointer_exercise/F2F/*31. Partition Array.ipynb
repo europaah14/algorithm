{
 "cells": [
  {
   "attachments": {},
   "cell_type": "markdown",
   "metadata": {},
   "source": [
    "### *31. Partition Array"
   ]
  },
  {
   "attachments": {},
   "cell_type": "markdown",
   "metadata": {},
   "source": [
    "\n",
    "Given an array `nums` of integers and an integer `k`, partition the array (i.e move the elements in `nums`) such that:\n",
    "\n",
    "- All elements < `k` are moved to the left\n",
    "- All elements >= `k` are moved to the right\n",
    "\n",
    "Return the partitioning index, i.e the first index `i` s.t `nums[i] >= k`"
   ]
  },
  {
   "attachments": {},
   "cell_type": "markdown",
   "metadata": {},
   "source": [
    "<ins>Logic:<ins>\n",
    "\n",
    "Use **Face-to-Face Two Pointers** to partition the `nums` by\n",
    "\n",
    "1. Set 2 pointers which **track the swap indices**\n",
    "\n",
    "    `left = 0` \n",
    "\n",
    "    `right = len(nums) - 1` (corresponds to the first index s.t `nums[i] < k`)\n",
    "\n",
    "2. Start the `while` loop to partition `nums`\n",
    "    \n",
    "    - Use `while` loops to find the next 2 elements which need to be swapped\n",
    "\n",
    "    - Swap them and increment the pointers\n",
    "\n",
    "    - End the `while` loop if swap is complete\n",
    "\n",
    "3. Return `left` since\n",
    "\n",
    "    - `left` corresponds to the first index **(from left to right)** s.t `nums[i] >= k`\n",
    "    \n",
    "    - `right` corresponds to the first index **(from right to left)** s.t `nums[i] < k`\n"
   ]
  },
  {
   "cell_type": "code",
   "execution_count": 19,
   "metadata": {},
   "outputs": [],
   "source": [
    "def partition_array(nums, k):\n",
    "    if not nums:\n",
    "        return 0\n",
    "\n",
    "    # initialikze 2 pointers\n",
    "    left, right = 0, len(nums) - 1\n",
    "    \n",
    "    # end loop when 2 ponters pass each other\n",
    "    while left <= right:\n",
    "        # find the 1st index that shouldn't belong to left part (>= k)\n",
    "        while left <= right and nums[left] < k:\n",
    "            left += 1\n",
    "        \n",
    "        # find the 1st index that should not belong to right part (< k)\n",
    "        while left <= right and nums[right] >= k:\n",
    "            right -= 1\n",
    "        \n",
    "        # swap if process is not yet complete\n",
    "        if left <= right:\n",
    "            nums[left], nums[right] = nums[right], nums[left]\n",
    "            left += 1\n",
    "            right -= 1\n",
    "    \n",
    "    return left\n",
    "\n",
    "def test(nums, k, test_name=''):\n",
    "    print(test_name)\n",
    "    nums_prev = nums[:]\n",
    "    print(nums_prev, k)\n",
    "    print(partition_array(nums, k), f'{nums_prev} -> {nums}', '\\n')"
   ]
  },
  {
   "cell_type": "code",
   "execution_count": 24,
   "metadata": {},
   "outputs": [
    {
     "name": "stdout",
     "output_type": "stream",
     "text": [
      "Test: edge case\n",
      "[] 0\n",
      "0 [] -> [] \n",
      "\n",
      "Test: all < k\n",
      "[0, 1, 2, 1, 2, 4] 5\n",
      "6 [0, 1, 2, 1, 2, 4] -> [0, 1, 2, 1, 2, 4] \n",
      "\n",
      "Test: all >= k\n",
      "[0, 1, 2, 1, 2, 4] -1\n",
      "0 [0, 1, 2, 1, 2, 4] -> [0, 1, 2, 1, 2, 4] \n",
      "\n",
      "Test: all == k\n",
      "[0, 0, 0, 0] 0\n",
      "0 [0, 0, 0, 0] -> [0, 0, 0, 0] \n",
      "\n",
      "Test: normal case\n",
      "[5, 5, 5, 1, 6, 2, 7, 7, 2, 2] 5\n",
      "4 [5, 5, 5, 1, 6, 2, 7, 7, 2, 2] -> [2, 2, 2, 1, 6, 5, 7, 7, 5, 5] \n",
      "\n"
     ]
    }
   ],
   "source": [
    "test([], 0, 'Test: edge case')\n",
    "\n",
    "test([0,1,2,1,2,4], 5, 'Test: all < k')\n",
    "\n",
    "test([0,1,2,1,2,4], -1, 'Test: all >= k')\n",
    "\n",
    "test([0,0,0,0], 0, 'Test: all == k')\n",
    "\n",
    "test([5,5,5,1,6,2,7,7,2,2], 5, 'Test: normal case')"
   ]
  },
  {
   "cell_type": "code",
   "execution_count": 28,
   "metadata": {},
   "outputs": [
    {
     "name": "stdout",
     "output_type": "stream",
     "text": [
      "Test: edge case\n",
      "[] 0\n",
      "0 [] -> [] \n",
      "\n",
      "Test: all < k\n",
      "[0, 1, 2, 1, 2, 4] 5\n",
      "6 [0, 1, 2, 1, 2, 4] -> [0, 1, 2, 1, 2, 4] \n",
      "\n",
      "Test: all >= k\n",
      "[0, 1, 2, 1, 2, 4] -1\n",
      "0 [0, 1, 2, 1, 2, 4] -> [0, 1, 2, 1, 2, 4] \n",
      "\n",
      "Test: all == k\n",
      "[0, 0, 0, 0] 0\n",
      "0 [0, 0, 0, 0] -> [0, 0, 0, 0] \n",
      "\n",
      "Test: normal case\n",
      "[5, 5, 5, 1, 6, 2, 7, 7, 2, 2] 5\n",
      "4 [5, 5, 5, 1, 6, 2, 7, 7, 2, 2] -> [1, 2, 2, 2, 6, 5, 7, 7, 5, 5] \n",
      "\n"
     ]
    }
   ],
   "source": [
    "# alternative method: sliding window\n",
    "\n",
    "def partition_array(nums, k):\n",
    "    left = 0\n",
    "    for right in range(len(nums)):\n",
    "        if nums[right] < k:\n",
    "            nums[left], nums[right] = nums[right], nums[left]\n",
    "            left += 1\n",
    "    \n",
    "    return left\n",
    "\n",
    "test([], 0, 'Test: edge case')\n",
    "\n",
    "test([0,1,2,1,2,4], 5, 'Test: all < k')\n",
    "\n",
    "test([0,1,2,1,2,4], -1, 'Test: all >= k')\n",
    "\n",
    "test([0,0,0,0], 0, 'Test: all == k')\n",
    "\n",
    "test([5,5,5,1,6,2,7,7,2,2], 5, 'Test: normal case')"
   ]
  }
 ],
 "metadata": {
  "kernelspec": {
   "display_name": "ml",
   "language": "python",
   "name": "python3"
  },
  "language_info": {
   "codemirror_mode": {
    "name": "ipython",
    "version": 3
   },
   "file_extension": ".py",
   "mimetype": "text/x-python",
   "name": "python",
   "nbconvert_exporter": "python",
   "pygments_lexer": "ipython3",
   "version": "3.10.11"
  },
  "orig_nbformat": 4
 },
 "nbformat": 4,
 "nbformat_minor": 2
}

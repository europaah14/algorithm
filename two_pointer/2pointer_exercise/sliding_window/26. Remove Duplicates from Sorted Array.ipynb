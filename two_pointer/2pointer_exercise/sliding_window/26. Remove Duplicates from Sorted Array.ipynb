{
 "cells": [
  {
   "attachments": {},
   "cell_type": "markdown",
   "metadata": {},
   "source": [
    "### 26. Remove Duplicates from Sorted Array"
   ]
  },
  {
   "attachments": {},
   "cell_type": "markdown",
   "metadata": {},
   "source": [
    "Given an integer array `nums` sorted in non-decreasing order, remove the duplicates **in-place** such that each unique element appears only once. The relative order of the elements should be kept the same.  \n",
    "\n",
    "Return the number of elements after removing the duplicates.\n",
    "\n",
    "Note no need to modify the sizr of `nums`"
   ]
  },
  {
   "attachments": {},
   "cell_type": "markdown",
   "metadata": {},
   "source": [
    "<ins>Logic<ins>\n",
    "\n",
    "- Classic *Sliding Window* problem\n",
    "\n",
    "    - The fast pointer `right` is used to visit each element of `nums`\n",
    "\n",
    "    - The slow pointer `left` is used to manipulate `nums` and mark the **last manipulated index**\n",
    "\n",
    "-  Whether the element `nums[right]` has already appeared can be determined by comparing it with the **last manipulated element**, i.e.,\n",
    "\n",
    "    `nums[right] == nums[left - 1]`\n",
    "\n",
    "    Note when `left == 0`, `nums` has not been manipulated yet $\\Rightarrow$ `nums[right]` hasn't appeared yet\n",
    "    "
   ]
  },
  {
   "cell_type": "code",
   "execution_count": 4,
   "metadata": {},
   "outputs": [],
   "source": [
    "def removeDuplicates(nums):\n",
    "    # set pointer\n",
    "    left = 0\n",
    "    for right in range(len(nums)):\n",
    "        # if nums[right] never appear, manipulate nums[left]\n",
    "        if not left or nums[right] != nums[left - 1]:\n",
    "            nums[left] = nums[right]\n",
    "            # move marking pointer\n",
    "            left += 1\n",
    "    \n",
    "    # left - 1 is the last manipulated index, \n",
    "    # so left is the length of unique elements\n",
    "    return left\n",
    "\n",
    "def test(nums, test_name=''):\n",
    "    print(test_name, nums, sep='\\n')\n",
    "    nums_prev = nums[:]\n",
    "    print(removeDuplicates(nums))\n",
    "    print(f'{nums_prev} -> {nums}\\n')"
   ]
  },
  {
   "cell_type": "code",
   "execution_count": 5,
   "metadata": {},
   "outputs": [
    {
     "name": "stdout",
     "output_type": "stream",
     "text": [
      "Test: edge case\n",
      "[]\n",
      "0\n",
      "[] -> []\n",
      "\n",
      "Test: len == 1\n",
      "[1]\n",
      "1\n",
      "[1] -> [1]\n",
      "\n",
      "Test: all repeat\n",
      "[1, 1, 1, 1, 1, 1, 1, 1, 1]\n",
      "1\n",
      "[1, 1, 1, 1, 1, 1, 1, 1, 1] -> [1, 1, 1, 1, 1, 1, 1, 1, 1]\n",
      "\n",
      "Test: normal case 1\n",
      "[1, 2, 2, 2, 3, 3, 3, 3, 3]\n",
      "3\n",
      "[1, 2, 2, 2, 3, 3, 3, 3, 3] -> [1, 2, 3, 2, 3, 3, 3, 3, 3]\n",
      "\n",
      "Test: normal case 2\n",
      "[1, 2, 2, 3, 3, 4]\n",
      "4\n",
      "[1, 2, 2, 3, 3, 4] -> [1, 2, 3, 4, 3, 4]\n",
      "\n"
     ]
    }
   ],
   "source": [
    "test([], 'Test: edge case')\n",
    "\n",
    "test([1], 'Test: len == 1')\n",
    "\n",
    "test([1,1,1,1,1,1,1,1,1], 'Test: all repeat')\n",
    "\n",
    "test([1,2,2,2,3,3,3,3,3], 'Test: normal case 1')\n",
    "\n",
    "test([1,2,2,3,3,4], 'Test: normal case 2')"
   ]
  },
  {
   "cell_type": "code",
   "execution_count": 8,
   "metadata": {},
   "outputs": [],
   "source": [
    "# alternative: while loop version\n",
    "def removeDuplicates(nums):\n",
    "    left, right = 0, 0\n",
    "    while right < len(nums):\n",
    "        # when element hasn't appeared yet\n",
    "        if not left or nums[right] != nums[left - 1]:\n",
    "            nums[left] = nums[right]\n",
    "            # move marking pointer\n",
    "            left += 1\n",
    "        \n",
    "        # move pointer to see next element\n",
    "        right += 1\n",
    "\n",
    "    return left"
   ]
  }
 ],
 "metadata": {
  "kernelspec": {
   "display_name": "ml",
   "language": "python",
   "name": "python3"
  },
  "language_info": {
   "codemirror_mode": {
    "name": "ipython",
    "version": 3
   },
   "file_extension": ".py",
   "mimetype": "text/x-python",
   "name": "python",
   "nbconvert_exporter": "python",
   "pygments_lexer": "ipython3",
   "version": "3.10.11"
  },
  "orig_nbformat": 4
 },
 "nbformat": 4,
 "nbformat_minor": 2
}

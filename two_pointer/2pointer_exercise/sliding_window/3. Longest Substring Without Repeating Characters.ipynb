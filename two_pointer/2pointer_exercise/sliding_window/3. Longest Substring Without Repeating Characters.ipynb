{
 "cells": [
  {
   "attachments": {},
   "cell_type": "markdown",
   "metadata": {},
   "source": [
    "### 3. Longest Substring Without Repeating Characters"
   ]
  },
  {
   "attachments": {},
   "cell_type": "markdown",
   "metadata": {},
   "source": [
    "Given a string `s`, find the length of the longest substring without repeating characters."
   ]
  },
  {
   "attachments": {},
   "cell_type": "markdown",
   "metadata": {},
   "source": [
    "<ins>Logic</ins>\n",
    "\n",
    "1. Use **Sliding Window** to track such substring\n",
    "\n",
    "    - set pointer `left` to denote the start index of substring\n",
    "\n",
    "    - set pointer `right` to denote the end index of substring (can use `for` loop)\n",
    "\n",
    "2. Tracking\n",
    "\n",
    "    - use a varibale `max_len` to track the max length\n",
    "\n",
    "    - use a **dictionary** `char_index` to track the **last-occurence** index of the characters\n",
    "\n",
    "3. When a repeated charater `char` is found, \n",
    "\n",
    "    - update `max_len = max(right - left, max_len)` (not `right - left + 1`)\n",
    "    \n",
    "        update `left = char_index[char] + 1`\n",
    "\n",
    "    - note: need to ensure such repeated character in within the current substring\n",
    "\n",
    "4. Update `char_index` after detecting each character\n",
    "\n",
    "<br>\n",
    "\n",
    "Time Complexity: O(n)\n",
    "\n",
    "Space Complexity: O(n)"
   ]
  },
  {
   "cell_type": "code",
   "execution_count": 20,
   "metadata": {},
   "outputs": [],
   "source": [
    "def lengthOfLongestSubstring(s):\n",
    "    # edge case\n",
    "    if not s:\n",
    "        return 0\n",
    "    \n",
    "    # initiate pointer and tracking variables\n",
    "    left, max_len, char_index = 0, 0, {}\n",
    "    for right, char in enumerate(s):\n",
    "        # if char is a repeating char:\n",
    "        if char_index.get(char, -1) >= left:\n",
    "            # update max length\n",
    "            max_len = max(right - left, max_len) \n",
    "            # update start index\n",
    "            left = char_index[char] + 1\n",
    "        # update char_index\n",
    "        char_index[char] = right\n",
    "\n",
    "    return max(len(s) - left, max_len)\n",
    "\n",
    "def test(s, test_name=''):\n",
    "    print(test_name, s, sep='\\n')\n",
    "    print(lengthOfLongestSubstring(s), '\\n')"
   ]
  },
  {
   "cell_type": "code",
   "execution_count": 26,
   "metadata": {},
   "outputs": [
    {
     "name": "stdout",
     "output_type": "stream",
     "text": [
      "Test: edge case\n",
      "\n",
      "0 \n",
      "\n",
      "Test: adjacent repeat\n",
      "pwwkew\n",
      "3 \n",
      "\n",
      "Test: all repeat\n",
      "aaaaaa\n",
      "1 \n",
      "\n",
      "Test: all unique\n",
      "abcdefg\n",
      "7 \n",
      "\n",
      "Test: repeat but not in current substring\n",
      "abcdcbap\n",
      "5 \n",
      "\n"
     ]
    }
   ],
   "source": [
    "test('', 'Test: edge case')\n",
    "\n",
    "test('pwwkew', 'Test: adjacent repeat')\n",
    "\n",
    "test('aaaaaa', 'Test: all repeat')\n",
    "\n",
    "test('abcdefg', 'Test: all unique')\n",
    "\n",
    "test('abcdcbap', 'Test: repeat but not in current substring')"
   ]
  }
 ],
 "metadata": {
  "kernelspec": {
   "display_name": "ml",
   "language": "python",
   "name": "python3"
  },
  "language_info": {
   "codemirror_mode": {
    "name": "ipython",
    "version": 3
   },
   "file_extension": ".py",
   "mimetype": "text/x-python",
   "name": "python",
   "nbconvert_exporter": "python",
   "pygments_lexer": "ipython3",
   "version": "3.10.11"
  },
  "orig_nbformat": 4
 },
 "nbformat": 4,
 "nbformat_minor": 2
}

{
 "cells": [
  {
   "attachments": {},
   "cell_type": "markdown",
   "metadata": {},
   "source": [
    "## Version1: Face-to-Face Two Pointers (towards each other)\n",
    "\n",
    "- Two pointers are set at **start** and **end** of an array respectively\n",
    "\n",
    "- They will **move towards each other** until **they meet or pass each other**\n",
    "\n",
    "- Interpretation of two pointers: \n",
    "\n",
    "    Usually, the indices **outside** the two pointers range (`i < left` $\\cup$ `i > right`) are the indices that **have been processed / filtered**\n",
    "\n",
    "- Application: \n",
    "\n",
    "    Case when we need to obtain answer staring **from both ends** of an array, \n",
    "    \n",
    "    e.g., *2 Sum*"
   ]
  },
  {
   "attachments": {},
   "cell_type": "markdown",
   "metadata": {},
   "source": [
    "## Version2: Back-to-Back Two Pointers (against each other)\n",
    "\n",
    "- Two pointers are set at **two adjacent index** or **same index** of an array\n",
    "\n",
    "- They will **move in opposite direction against each other** until they **reach or pass the ends** of array\n",
    "\n",
    "- Interpretation of two pointers: \n",
    "\n",
    "    Usually, the indices **between** (exclusively) the two pointers range (`left < i < right`) are the indices that **have been processed / filtered**\n",
    "\n",
    "- Application: \n",
    "    \n",
    "    Case when we need to obtain answer from **same or adjacent position**, \n",
    "    \n",
    "    e.g., *palindrome detection*"
   ]
  },
  {
   "attachments": {},
   "cell_type": "markdown",
   "metadata": {},
   "source": [
    "## Version3: Same Direction Two Pointers (sliding window)\n",
    "\n",
    "- Two pointers are set at the same starting index of an array\n",
    "\n",
    "- They will move in the **same direction**, where \n",
    "\n",
    "    - one of the pointers **moves faster** than the other one\n",
    "\n",
    "    - the slow pointer **only moves when certain condition is met**\n",
    "\n",
    "    - They stop moving until the `fast` pointer is **done visiting the whole array** (usually)\n",
    "\n",
    "- Interpretation of two pointers:\n",
    "\n",
    "    Usually, the indices **before** slower pointer (`i < slow`) are the indices that have been processed / filtered\n",
    "\n",
    "- Application:\n",
    "\n",
    "    Case when we need to obtain answer by **tracking a certain contiguous segment** of an array, \n",
    "    \n",
    "    e.g., *longest substring w/o repeating characters*, *string/array manipulation problem*\n"
   ]
  }
 ],
 "metadata": {
  "kernelspec": {
   "display_name": "ml",
   "language": "python",
   "name": "python3"
  },
  "language_info": {
   "codemirror_mode": {
    "name": "ipython",
    "version": 3
   },
   "file_extension": ".py",
   "mimetype": "text/x-python",
   "name": "python",
   "nbconvert_exporter": "python",
   "pygments_lexer": "ipython3",
   "version": "3.10.11"
  },
  "orig_nbformat": 4
 },
 "nbformat": 4,
 "nbformat_minor": 2
}

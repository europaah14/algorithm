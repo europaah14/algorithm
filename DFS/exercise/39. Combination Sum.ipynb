{
 "cells": [
  {
   "attachments": {},
   "cell_type": "markdown",
   "metadata": {},
   "source": [
    "### 39. Combination Sum"
   ]
  },
  {
   "attachments": {},
   "cell_type": "markdown",
   "metadata": {},
   "source": [
    "Given an array of distinct positive integers `candidates` and a positive target integer `target`, return a list of all **unique** combinations of `candidates` where the chosen numbers sum to `target`. \n",
    "\n",
    "- You may return the combinations in any order.\n",
    "\n",
    "- The same number may be chosen from candidates an unlimited number of times. \n",
    "\n",
    "- Two combinations are unique if the \n",
    "frequency of at least one of the chosen numbers is different."
   ]
  },
  {
   "attachments": {},
   "cell_type": "markdown",
   "metadata": {},
   "source": [
    "<ins>Logic<ins>\n",
    "\n",
    "Consider all combinations as a tree and use **DFS**\n",
    "\n",
    "1. Sort `candidates`\n",
    "\n",
    "2. Use **DFS**\n",
    "\n",
    "- *Exit*\n",
    "\n",
    "    - when `target == 0` $\\Rightarrow$ add combination to final result list\n",
    "\n",
    "        Since in recursion calls, the target will be decreased by the number selected from `candidates`\n",
    "\n",
    "    - when `target < 0` $\\Rightarrow$ terminate current recursion call\n",
    "\n",
    "        Since `candidates` is sorted and positive\n",
    "        \n",
    "        $\\Rightarrow$ `target < 0` means we cannot find a suitable number from `candidates` which makes sum equal to original `target`\n",
    "\n",
    "- *Recursion Calls*\n",
    "\n",
    "    - Variables:\n",
    "\n",
    "        - `start_index`: indicates the starting index for each recursion call\n",
    "\n",
    "        - `target`: indicates the target that the current recursion call needs to find\n",
    "\n",
    "        - `result`: used to store the current combination\n",
    "\n",
    "        - `results`: used to store the combinations which meet the requirement\n",
    "\n",
    "    - for each index from `start_index` to `len(candidates) - 1`, do:\n",
    "\n",
    "        - add `candidates[index]` to result\n",
    "\n",
    "        - make recursion call with `index`, `target - candidates[index]`, `result`, `results`\n",
    "\n",
    "            Note that `index` is passed instead of `index + 1` since each number can be used unlimited times\n",
    "        \n",
    "        **Note:** each `for` loop corresponds to a selection at the same level, i.e., the $k^{th}$ number to be selected\n",
    "\n",
    "- *Backtrack*\n",
    "\n",
    "    Each time the recursion call is made, backtrack `result` by removing the last number,\n",
    "    \n",
    "    i.e., the number added before the recursion call"
   ]
  },
  {
   "cell_type": "code",
   "execution_count": 1,
   "metadata": {},
   "outputs": [],
   "source": [
    "def dfs(candidates, start_index, target, result, results):\n",
    "    # exit\n",
    "    if target == 0:\n",
    "        results.append(result[:])\n",
    "    \n",
    "    if target < 0:\n",
    "        return\n",
    "    \n",
    "    # recursion calls\n",
    "    for index in range(start_index, len(candidates)):\n",
    "        # add current number in result\n",
    "        curr_num = candidates[index]\n",
    "        result.append(curr_num)\n",
    "\n",
    "        # recursion\n",
    "        dfs(candidates, index, target - curr_num, result, results)\n",
    "\n",
    "        # backtrack - remove the number just added\n",
    "        result.pop()\n",
    "\n",
    "def combinationSum(candidates, target):\n",
    "    results = []\n",
    "    dfs(sorted(candidates), 0, target, [], results)\n",
    "\n",
    "    return results"
   ]
  }
 ],
 "metadata": {
  "kernelspec": {
   "display_name": "ml",
   "language": "python",
   "name": "python3"
  },
  "language_info": {
   "codemirror_mode": {
    "name": "ipython",
    "version": 3
   },
   "file_extension": ".py",
   "mimetype": "text/x-python",
   "name": "python",
   "nbconvert_exporter": "python",
   "pygments_lexer": "ipython3",
   "version": "3.10.11"
  },
  "orig_nbformat": 4
 },
 "nbformat": 4,
 "nbformat_minor": 2
}

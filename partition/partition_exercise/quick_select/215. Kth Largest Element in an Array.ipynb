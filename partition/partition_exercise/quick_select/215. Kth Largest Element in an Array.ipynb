{
 "cells": [
  {
   "attachments": {},
   "cell_type": "markdown",
   "metadata": {},
   "source": [
    "### 215. Kth Largest Element in an Array"
   ]
  },
  {
   "attachments": {},
   "cell_type": "markdown",
   "metadata": {},
   "source": [
    "Given an integer array `nums` and an integer `k`, return the kth largest element in the array.\n",
    "\n",
    "Note: \n",
    "\n",
    "- it is the kth largest element in the sorted order, not the kth distinct element.\n",
    "\n",
    "- `k` ranges from `1` to `len(nums)`"
   ]
  },
  {
   "attachments": {},
   "cell_type": "markdown",
   "metadata": {},
   "source": [
    "<ins>Logic:<ins>\n",
    "\n",
    "Use *Quick Select* algorithm\n",
    "\n",
    "<br>\n",
    "\n",
    "Time Complexity: \n",
    "\n",
    "- Average: $O(n)$\n",
    "\n",
    "- Worst: $O(n^2)$\n",
    "\n",
    "Space Complexity: $O(1)$"
   ]
  },
  {
   "cell_type": "code",
   "execution_count": 19,
   "metadata": {},
   "outputs": [],
   "source": [
    "def quick_select(nums, k, start, end):\n",
    "    '''\n",
    "    find kth largest\n",
    "    '''\n",
    "    # initialize\n",
    "    left = start\n",
    "    \n",
    "    # use last element as pivot\n",
    "    pivot = nums[end]\n",
    "\n",
    "    # partition\n",
    "    for right in range(start, end):\n",
    "        # since we want nums desc\n",
    "        if nums[right] > pivot: \n",
    "            nums[right], nums[left] = nums[left], nums[right]\n",
    "            left += 1\n",
    "    \n",
    "    # place pivot at correct index\n",
    "    nums[end], nums[left] = nums[left], nums[end]\n",
    "    \n",
    "    # check which segment kth smallest element belong to\n",
    "    # note k starts at 1, so k needs to be modifies as 0-indexed\n",
    "    if k - 1 == left:\n",
    "        return pivot\n",
    "    \n",
    "    elif k - 1 < left:\n",
    "        return quick_select(nums, k, start, left - 1)\n",
    "\n",
    "    else:\n",
    "        return quick_select(nums, k, left + 1, end)\n",
    "\n",
    "def findKthLargest(nums, k):\n",
    "    if not nums:\n",
    "        return -1\n",
    "\n",
    "    # kth smallest = len(nums) - k + 1\n",
    "    return quick_select(nums, k, 0, len(nums) - 1)\n",
    "\n",
    "def test(nums, k, test_name=''):\n",
    "    print(test_name)\n",
    "    print(nums, k)\n",
    "    print(findKthLargest(nums, k), '\\n')"
   ]
  },
  {
   "cell_type": "code",
   "execution_count": 20,
   "metadata": {},
   "outputs": [
    {
     "name": "stdout",
     "output_type": "stream",
     "text": [
      "\n",
      "[] Test: edge case\n",
      "-1 \n",
      "\n",
      "Test: asc sorted\n",
      "[1, 2, 3, 4, 5, 6] 6\n",
      "1 \n",
      "\n",
      "Test: desc sorted\n",
      "[6, 5, 4, 3, 2, 1] 6\n",
      "1 \n",
      "\n",
      "Test: repeat largest\n",
      "[1, 1, 1, 1, 1, 1] 1\n",
      "1 \n",
      "\n",
      "Test: repeat smallest\n",
      "[1, 1, 1, 1, 1, 1] 6\n",
      "1 \n",
      "\n"
     ]
    }
   ],
   "source": [
    "test([], 'Test: edge case')\n",
    "\n",
    "test([1,2,3,4,5,6], 6, 'Test: asc sorted')\n",
    "\n",
    "test([6,5,4,3,2,1], 6, 'Test: desc sorted')\n",
    "\n",
    "test([1] * 6, 1, 'Test: repeat largest')\n",
    "\n",
    "test([1] * 6, 6, 'Test: repeat smallest')"
   ]
  }
 ],
 "metadata": {
  "kernelspec": {
   "display_name": "ml",
   "language": "python",
   "name": "python3"
  },
  "language_info": {
   "codemirror_mode": {
    "name": "ipython",
    "version": 3
   },
   "file_extension": ".py",
   "mimetype": "text/x-python",
   "name": "python",
   "nbconvert_exporter": "python",
   "pygments_lexer": "ipython3",
   "version": "3.10.11"
  },
  "orig_nbformat": 4
 },
 "nbformat": 4,
 "nbformat_minor": 2
}

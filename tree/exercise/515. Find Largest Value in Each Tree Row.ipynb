{
 "cells": [
  {
   "attachments": {},
   "cell_type": "markdown",
   "metadata": {},
   "source": [
    "### 515. Find Largest Value in Each Tree Row"
   ]
  },
  {
   "attachments": {},
   "cell_type": "markdown",
   "metadata": {},
   "source": [
    "Given the `root` of a binary tree, return an array of the largest value in each row of the tree (0-indexed)."
   ]
  },
  {
   "attachments": {},
   "cell_type": "markdown",
   "metadata": {},
   "source": [
    "<ins>Logic<ins>\n",
    "\n",
    "Use **BFS**\n",
    "\n",
    "1. Obtain all the values in each row of the tree\n",
    "\n",
    "2. Find the max value for each row"
   ]
  },
  {
   "cell_type": "code",
   "execution_count": 2,
   "metadata": {},
   "outputs": [],
   "source": [
    "from collections import deque\n",
    "\n",
    "def largestValues(root):\n",
    "    if not root:\n",
    "        return []\n",
    "\n",
    "    result = []\n",
    "    queue = deque([root])\n",
    "    while queue:\n",
    "        # init max_val\n",
    "        max_val = float('-inf')\n",
    "        for _ in range(len(queue)):\n",
    "            node = queue.popleft() \n",
    "            # update max_val\n",
    "            if node.val > max_val:\n",
    "                max_val = node.val\n",
    "\n",
    "            # add to queue if left child exists\n",
    "            if node.left:\n",
    "                queue.append(node.left)\n",
    "            # add to queue if right child exists\n",
    "            if node.right:\n",
    "                queue.append(node.right)\n",
    "        \n",
    "        # get max of each row\n",
    "        result.append(max_val)\n",
    "    \n",
    "    return result"
   ]
  }
 ],
 "metadata": {
  "kernelspec": {
   "display_name": "ml",
   "language": "python",
   "name": "python3"
  },
  "language_info": {
   "codemirror_mode": {
    "name": "ipython",
    "version": 3
   },
   "file_extension": ".py",
   "mimetype": "text/x-python",
   "name": "python",
   "nbconvert_exporter": "python",
   "pygments_lexer": "ipython3",
   "version": "3.10.11"
  },
  "orig_nbformat": 4
 },
 "nbformat": 4,
 "nbformat_minor": 2
}

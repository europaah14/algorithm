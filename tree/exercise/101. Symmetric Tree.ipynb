{
 "cells": [
  {
   "attachments": {},
   "cell_type": "markdown",
   "metadata": {},
   "source": [
    "### 101. Symmetric Tree"
   ]
  },
  {
   "attachments": {},
   "cell_type": "markdown",
   "metadata": {},
   "source": [
    "Given the `root` of a binary tree, check whether it is a mirror of itself (i.e., symmetric around its center)."
   ]
  },
  {
   "attachments": {},
   "cell_type": "markdown",
   "metadata": {},
   "source": [
    "<ins>Logic<ins>\n",
    "\n",
    "1. To determine if a binary tree is symmetric, it needs to satisfy:\n",
    "\n",
    "    - The **Left Subtree** and **Right Subtree** of `root` are mirriored\n",
    "\n",
    "    Hence, we need to write a function `is_mirrored(tree1, tree2)` which determines if `tree1` and `tree2` are mirrored. \n",
    "\n",
    "2. `is_mirrored` can be solved using *Divide & Conquer*:\n",
    "\n",
    "    $\\Rightarrow$ `tree1` and `tree2` are mirrored if\n",
    "\n",
    "    - **root node** of `tree1` and `tree2` are the same\n",
    "\n",
    "    - the **Left Subtree** of `tree1` and the **Right Subtree** of `tree2` are mirrored\n",
    "\n",
    "    - the **Right Subtree** of `tree1` and the **Left Subtree** of `tree2` are mirrored"
   ]
  },
  {
   "cell_type": "code",
   "execution_count": null,
   "metadata": {},
   "outputs": [],
   "source": [
    "def is_mirrored(tree1, tree2):\n",
    "    # base case\n",
    "    if not tree1 and not tree2:\n",
    "        return True\n",
    "    \n",
    "    elif ((tree1 and not tree2) or\n",
    "          (tree2 and not tree1)\n",
    "    ):\n",
    "        return False\n",
    "    \n",
    "    # divide & conquer\n",
    "    outer_layer_mirrored = is_mirrored(tree1.left, tree2.right)\n",
    "    inner_layer_mirrored = is_mirrored(tree1.right, tree2.left)\n",
    "\n",
    "    # combine\n",
    "    return (\n",
    "        tree1.val == tree2.val and\n",
    "        outer_layer_mirrored and\n",
    "        inner_layer_mirrored\n",
    "    )\n",
    "\n",
    "def isSymmetric(root):\n",
    "    if not root:\n",
    "        return True\n",
    "\n",
    "    return is_mirrored(root.left, root.right)\n"
   ]
  }
 ],
 "metadata": {
  "kernelspec": {
   "display_name": "ml",
   "language": "python",
   "name": "python3"
  },
  "language_info": {
   "name": "python",
   "version": "3.10.11"
  },
  "orig_nbformat": 4
 },
 "nbformat": 4,
 "nbformat_minor": 2
}

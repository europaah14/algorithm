{
 "cells": [
  {
   "cell_type": "code",
   "execution_count": 1,
   "metadata": {},
   "outputs": [],
   "source": [
    "import os\n",
    "os.chdir('../')\n",
    "from check import check"
   ]
  },
  {
   "attachments": {},
   "cell_type": "markdown",
   "metadata": {},
   "source": [
    "## Version1: Find Exact\n",
    "\n",
    "Given an array sorted ascending `arr` and a `target`, find the index `i` such that `arr[i] == target`\n",
    "\n",
    "- When there are duplicates, return any index meeting the requirement"
   ]
  },
  {
   "attachments": {},
   "cell_type": "markdown",
   "metadata": {},
   "source": [
    "### Algorithm Notes\n",
    "\n",
    "1. `start` and `end` are set as the first and last search index\n",
    "\n",
    "2. `mid = (start + end) // 2` $\\Rightarrow$ the midpoint of the first and last search index\n",
    "\n",
    "    * note when length `end - start + 1` is even, the midpoint is the one closer to `start` due to floor<br><br>\n",
    "\n",
    "3. It needs to search for every possible index, so while loop ends when `start > end`\n",
    "\n",
    "4. update `start` and `end`\n",
    "\n",
    "    - When `arr[mid] < target` $\\Rightarrow$ `target` is after `mid` $\\Rightarrow$ `start = mid + 1`\n",
    "\n",
    "    - When `arr[mid] > target` $\\Rightarrow$ `target` is before `mid` $\\Rightarrow$ `end = mid - 1`"
   ]
  },
  {
   "cell_type": "code",
   "execution_count": 2,
   "metadata": {},
   "outputs": [],
   "source": [
    "def bs_exact(arr, target):\n",
    "    # edge case handler\n",
    "    if not target:\n",
    "        return -1\n",
    "    \n",
    "    start, end = 0, len(arr) - 1\n",
    "    while start <= end:\n",
    "        mid = (start + end) // 2\n",
    "        \n",
    "        if arr[mid] == target:\n",
    "            return mid\n",
    "        elif arr[mid] < target:\n",
    "            start = mid + 1\n",
    "        else:\n",
    "            end = mid - 1\n",
    "    \n",
    "    return -1"
   ]
  },
  {
   "cell_type": "code",
   "execution_count": 3,
   "metadata": {},
   "outputs": [
    {
     "name": "stdout",
     "output_type": "stream",
     "text": [
      "Test: unique\n",
      "############ INPUT ############\n",
      "\n",
      "arr: [0, 1, 2, 3, 4, 5, 6]\n",
      "target: 4\n",
      "\n",
      "############ OUTPUT ###########\n",
      "\n",
      "Expected Output: 4\n",
      "Actual Output:   4\n",
      "\n",
      "############# END #############\n",
      "\n",
      "Test: duplicate\n",
      "############ INPUT ############\n",
      "\n",
      "arr: [0, 1, 4, 4, 4, 5, 6, 7]\n",
      "target: 4\n",
      "\n",
      "############ OUTPUT ###########\n",
      "\n",
      "Expected Output: 2 or 3 or 4\n",
      "Actual Output:   3\n",
      "\n",
      "############# END #############\n",
      "\n",
      "Test: no\n",
      "############ INPUT ############\n",
      "\n",
      "arr: [0, 1, 4, 4, 4, 5, 6, 7]\n",
      "target: -1\n",
      "\n",
      "############ OUTPUT ###########\n",
      "\n",
      "Expected Output: -1\n",
      "Actual Output:   -1\n",
      "\n",
      "############# END #############\n",
      "\n"
     ]
    }
   ],
   "source": [
    "print('Test: unique')\n",
    "check(bs_exact, ([0,1,2,3,4,5,6], 4), 4)\n",
    "\n",
    "print('Test: duplicate')\n",
    "check(bs_exact, ([0,1,4,4,4,5,6,7], 4), '2 or 3 or 4')\n",
    "\n",
    "print('Test: no')\n",
    "check(bs_exact, ([0,1,4,4,4,5,6,7], -1), -1)"
   ]
  },
  {
   "attachments": {},
   "cell_type": "markdown",
   "metadata": {},
   "source": [
    "## Version2: Find Non-exact\n",
    "\n",
    "Given an array sorted ascending `arr` and a `target`\n",
    "\n",
    "i. find the first index `i` such that `arr[i] > target`\n",
    "\n",
    "ii. find the first index `i` such that `arr[i] == target`\n",
    "\n",
    "iii. find the last index `i` such that `arr[i] < target`\n",
    "\n",
    "iv. find the last index `i` such that `arr[i] == target`"
   ]
  },
  {
   "attachments": {},
   "cell_type": "markdown",
   "metadata": {},
   "source": [
    "### Algorithm Notes\n",
    "\n",
    "1. Logic\n",
    "\n",
    "    When the algorithm finds the index which meets the requirement, **we cannot return it** since we don't know if this is the first / last index.\n",
    "\n",
    "    Instead, we need to finish the search process until we verify this is the first / last index.\n",
    "\n",
    "2. Approch\n",
    "\n",
    "    **To find the first / last index**, we can use the following methods:\n",
    "    \n",
    "    - <ins>**approach 1**</ins>: use a variable to maintain the valid result:\n",
    "\n",
    "        set `result = -1`\n",
    "    \n",
    "        update `result = mid` when `arr[mid]` meets the requirement\n",
    "\n",
    "    - <ins>**approach 2**</ins>: use the last updated pointers to locate the first / last index:\n",
    "\n",
    "        <ins>**Case: first index**</ins>\n",
    "\n",
    "        - when `start` is updated, **it excludes indices which are not the final anwer**\n",
    "\n",
    "        - when `end` is updated, **it exclude indices which can be the potential answer**\n",
    "\n",
    "        - Hence, `start` can be used to find the first index since `start` will land on the first index (if exist) in last iteration\n",
    "\n",
    "        <ins>**Case: last index**</ins>\n",
    "\n",
    "        - when `start` is updated, **it exclude indices which can be the potential answer**\n",
    "\n",
    "        - when `end` is updated, **it excludes indices which are not the final anwer**\n",
    "\n",
    "        - Hence, `end` can be used to find the last index since `end` will land on the last index (if exist) in last iteration\n"
   ]
  },
  {
   "attachments": {},
   "cell_type": "markdown",
   "metadata": {},
   "source": [
    "### [i. find the first index `i` such that `arr[i] > target`](#toc0_) "
   ]
  },
  {
   "attachments": {},
   "cell_type": "markdown",
   "metadata": {},
   "source": [
    "<ins>Approach1：Maintain `result`<ins>"
   ]
  },
  {
   "cell_type": "code",
   "execution_count": 4,
   "metadata": {},
   "outputs": [
    {
     "name": "stdout",
     "output_type": "stream",
     "text": [
      "############ INPUT ############\n",
      "\n",
      "arr: [2, 2, 2]\n",
      "target: 1\n",
      "\n",
      "############ OUTPUT ###########\n",
      "\n",
      "Expected Output: 0\n",
      "Actual Output:   0\n",
      "\n",
      "############# END #############\n",
      "\n",
      "############ INPUT ############\n",
      "\n",
      "arr: [2, 2, 2]\n",
      "target: 2\n",
      "\n",
      "############ OUTPUT ###########\n",
      "\n",
      "Expected Output: -1\n",
      "Actual Output:   -1\n",
      "\n",
      "############# END #############\n",
      "\n"
     ]
    }
   ],
   "source": [
    "def bs_i(arr, target):\n",
    "    result = -1\n",
    "    start, end = 0, len(arr) - 1\n",
    "    while start <= end:\n",
    "        mid = (start + end) // 2\n",
    "        if arr[mid] > target:\n",
    "            result = mid\n",
    "            end = mid - 1\n",
    "        else:\n",
    "            start = mid + 1\n",
    "    \n",
    "    return result\n",
    "\n",
    "check(bs_i, ([2, 2, 2], 1), 0)\n",
    "check(bs_i, ([2, 2, 2], 2), -1)"
   ]
  },
  {
   "attachments": {},
   "cell_type": "markdown",
   "metadata": {},
   "source": [
    "<ins>Approach2: Return `start`<ins>"
   ]
  },
  {
   "cell_type": "code",
   "execution_count": 5,
   "metadata": {},
   "outputs": [
    {
     "name": "stdout",
     "output_type": "stream",
     "text": [
      "############ INPUT ############\n",
      "\n",
      "arr: [1, 1, 1, 1]\n",
      "target: 0\n",
      "\n",
      "############ OUTPUT ###########\n",
      "\n",
      "Expected Output: 0\n",
      "Actual Output:   0\n",
      "\n",
      "############# END #############\n",
      "\n",
      "############ INPUT ############\n",
      "\n",
      "arr: [0, 0, 1, 1]\n",
      "target: 0\n",
      "\n",
      "############ OUTPUT ###########\n",
      "\n",
      "Expected Output: 2\n",
      "Actual Output:   2\n",
      "\n",
      "############# END #############\n",
      "\n",
      "############ INPUT ############\n",
      "\n",
      "arr: [0, 0, 1, 1]\n",
      "target: 1\n",
      "\n",
      "############ OUTPUT ###########\n",
      "\n",
      "Expected Output: -1\n",
      "Actual Output:   -1\n",
      "\n",
      "############# END #############\n",
      "\n"
     ]
    }
   ],
   "source": [
    "def bs_i(arr, target):\n",
    "    start, end = 0, len(arr) - 1\n",
    "    while start <= end:\n",
    "        mid = (start + end) // 2\n",
    "        if arr[mid] > target:\n",
    "            end = mid - 1\n",
    "        else:\n",
    "            start = mid + 1\n",
    "    \n",
    "    return start if start < len(arr) else -1\n",
    "\n",
    "check(bs_i, ([1,1,1,1], 0), 0)\n",
    "check(bs_i, ([0,0,1,1], 0), 2)\n",
    "check(bs_i, ([0,0,1,1], 1), -1)"
   ]
  },
  {
   "attachments": {},
   "cell_type": "markdown",
   "metadata": {},
   "source": [
    "### [ii. find the first index `i` such that `arr[i] == target`](#toc0_) "
   ]
  },
  {
   "attachments": {},
   "cell_type": "markdown",
   "metadata": {},
   "source": [
    "<ins>Approach1: Maintain `result`<ins>"
   ]
  },
  {
   "cell_type": "code",
   "execution_count": 6,
   "metadata": {},
   "outputs": [
    {
     "name": "stdout",
     "output_type": "stream",
     "text": [
      "############ INPUT ############\n",
      "\n",
      "arr: [0, 0, 1, 1]\n",
      "target: 1\n",
      "\n",
      "############ OUTPUT ###########\n",
      "\n",
      "Expected Output: 2\n",
      "Actual Output:   2\n",
      "\n",
      "############# END #############\n",
      "\n",
      "############ INPUT ############\n",
      "\n",
      "arr: [1, 2, 3, 4]\n",
      "target: 0\n",
      "\n",
      "############ OUTPUT ###########\n",
      "\n",
      "Expected Output: -1\n",
      "Actual Output:   -1\n",
      "\n",
      "############# END #############\n",
      "\n",
      "############ INPUT ############\n",
      "\n",
      "arr: [1, 1]\n",
      "target: 0\n",
      "\n",
      "############ OUTPUT ###########\n",
      "\n",
      "Expected Output: -1\n",
      "Actual Output:   -1\n",
      "\n",
      "############# END #############\n",
      "\n"
     ]
    }
   ],
   "source": [
    "def bs_ii(arr, target):\n",
    "    result = -1\n",
    "    start, end = 0, len(arr) - 1\n",
    "    while start <= end:\n",
    "        mid = (start + end) // 2\n",
    "        # update result\n",
    "        if arr[mid] == target:\n",
    "            result = mid\n",
    "        # update pointers\n",
    "        if arr[mid] >= target:\n",
    "            end = mid - 1\n",
    "        else:\n",
    "            start = mid + 1\n",
    "    \n",
    "    return result\n",
    "\n",
    "check(bs_ii, ([0,0,1,1], 1), 2)\n",
    "check(bs_ii, ([1,2,3,4], 0), -1)\n",
    "check(bs_ii, ([1,1], 0), -1)"
   ]
  },
  {
   "attachments": {},
   "cell_type": "markdown",
   "metadata": {},
   "source": [
    "<ins>Approach2: Return `start`<ins>"
   ]
  },
  {
   "cell_type": "code",
   "execution_count": 7,
   "metadata": {},
   "outputs": [
    {
     "name": "stdout",
     "output_type": "stream",
     "text": [
      "############ INPUT ############\n",
      "\n",
      "arr: [0, 0, 1, 1]\n",
      "target: 1\n",
      "\n",
      "############ OUTPUT ###########\n",
      "\n",
      "Expected Output: 2\n",
      "Actual Output:   2\n",
      "\n",
      "############# END #############\n",
      "\n",
      "############ INPUT ############\n",
      "\n",
      "arr: [1, 2, 3, 4]\n",
      "target: 0\n",
      "\n",
      "############ OUTPUT ###########\n",
      "\n",
      "Expected Output: -1\n",
      "Actual Output:   -1\n",
      "\n",
      "############# END #############\n",
      "\n",
      "############ INPUT ############\n",
      "\n",
      "arr: [1, 1]\n",
      "target: 0\n",
      "\n",
      "############ OUTPUT ###########\n",
      "\n",
      "Expected Output: -1\n",
      "Actual Output:   -1\n",
      "\n",
      "############# END #############\n",
      "\n"
     ]
    }
   ],
   "source": [
    "def bs_ii(arr, target):\n",
    "    start, end = 0, len(arr) - 1\n",
    "    while start <= end:\n",
    "        mid = (start + end) // 2\n",
    "        if arr[mid] >= target:\n",
    "            end = mid - 1\n",
    "        else:\n",
    "            start = mid + 1\n",
    "    \n",
    "    if start == len(arr) or arr[start] != target:\n",
    "        return -1\n",
    "\n",
    "    return start\n",
    "\n",
    "check(bs_ii, ([0,0,1,1], 1), 2)\n",
    "check(bs_ii, ([1,2,3,4], 0), -1)\n",
    "check(bs_ii, ([1,1], 0), -1)"
   ]
  },
  {
   "attachments": {},
   "cell_type": "markdown",
   "metadata": {},
   "source": [
    "#### iii. find the last index `i` such that `arr[i] < target`"
   ]
  },
  {
   "attachments": {},
   "cell_type": "markdown",
   "metadata": {},
   "source": [
    "<ins>Approach1: Maintain `result`<ins>"
   ]
  },
  {
   "cell_type": "code",
   "execution_count": 8,
   "metadata": {},
   "outputs": [
    {
     "name": "stdout",
     "output_type": "stream",
     "text": [
      "############ INPUT ############\n",
      "\n",
      "arr: [0, 0, 1, 1]\n",
      "target: 1\n",
      "\n",
      "############ OUTPUT ###########\n",
      "\n",
      "Expected Output: 1\n",
      "Actual Output:   1\n",
      "\n",
      "############# END #############\n",
      "\n",
      "############ INPUT ############\n",
      "\n",
      "arr: [1, 1, 1, 1]\n",
      "target: 1\n",
      "\n",
      "############ OUTPUT ###########\n",
      "\n",
      "Expected Output: -1\n",
      "Actual Output:   -1\n",
      "\n",
      "############# END #############\n",
      "\n",
      "############ INPUT ############\n",
      "\n",
      "arr: [1, 1]\n",
      "target: 0\n",
      "\n",
      "############ OUTPUT ###########\n",
      "\n",
      "Expected Output: -1\n",
      "Actual Output:   -1\n",
      "\n",
      "############# END #############\n",
      "\n"
     ]
    }
   ],
   "source": [
    "def bs_iii(arr, target):\n",
    "    result = -1\n",
    "    start, end = 0, len(arr) - 1\n",
    "    while start <= end:\n",
    "        mid = (start + end) // 2\n",
    "        if arr[mid] < target:\n",
    "            result = mid\n",
    "            start = mid + 1\n",
    "        else:\n",
    "            end = mid - 1\n",
    "    \n",
    "    return result\n",
    "\n",
    "check(bs_iii, ([0,0,1,1], 1), 1)\n",
    "check(bs_iii, ([1,1,1,1], 1), -1)\n",
    "check(bs_iii, ([1,1], 0), -1)"
   ]
  },
  {
   "attachments": {},
   "cell_type": "markdown",
   "metadata": {},
   "source": [
    "<ins>Approach2: Return `end`<ins>"
   ]
  },
  {
   "cell_type": "code",
   "execution_count": 9,
   "metadata": {},
   "outputs": [
    {
     "name": "stdout",
     "output_type": "stream",
     "text": [
      "############ INPUT ############\n",
      "\n",
      "arr: [0, 0, 1, 1]\n",
      "target: 1\n",
      "\n",
      "############ OUTPUT ###########\n",
      "\n",
      "Expected Output: 1\n",
      "Actual Output:   1\n",
      "\n",
      "############# END #############\n",
      "\n",
      "############ INPUT ############\n",
      "\n",
      "arr: [1, 1, 1, 1]\n",
      "target: 1\n",
      "\n",
      "############ OUTPUT ###########\n",
      "\n",
      "Expected Output: -1\n",
      "Actual Output:   -1\n",
      "\n",
      "############# END #############\n",
      "\n",
      "############ INPUT ############\n",
      "\n",
      "arr: [1, 1]\n",
      "target: 0\n",
      "\n",
      "############ OUTPUT ###########\n",
      "\n",
      "Expected Output: -1\n",
      "Actual Output:   -1\n",
      "\n",
      "############# END #############\n",
      "\n"
     ]
    }
   ],
   "source": [
    "def bs_iii(arr, target):\n",
    "    start, end = 0, len(arr) - 1\n",
    "    while start <= end:\n",
    "        mid = (start + end) // 2\n",
    "        if arr[mid] < target:\n",
    "            start = mid + 1\n",
    "        else:\n",
    "            end = mid - 1\n",
    "\n",
    "    return end\n",
    "\n",
    "check(bs_iii, ([0,0,1,1], 1), 1)\n",
    "check(bs_iii, ([1,1,1,1], 1), -1)\n",
    "check(bs_iii, ([1,1], 0), -1)"
   ]
  },
  {
   "attachments": {},
   "cell_type": "markdown",
   "metadata": {},
   "source": [
    "#### iv. find the last index `i` such that `arr[i] == target`"
   ]
  },
  {
   "attachments": {},
   "cell_type": "markdown",
   "metadata": {},
   "source": [
    "<ins>Approach1: Maintain `result`<ins>"
   ]
  },
  {
   "cell_type": "code",
   "execution_count": 10,
   "metadata": {},
   "outputs": [
    {
     "name": "stdout",
     "output_type": "stream",
     "text": [
      "############ INPUT ############\n",
      "\n",
      "arr: [1, 1, 2, 2]\n",
      "target: 1\n",
      "\n",
      "############ OUTPUT ###########\n",
      "\n",
      "Expected Output: 1\n",
      "Actual Output:   1\n",
      "\n",
      "############# END #############\n",
      "\n",
      "############ INPUT ############\n",
      "\n",
      "arr: [0, 1, 2, 3]\n",
      "target: 4\n",
      "\n",
      "############ OUTPUT ###########\n",
      "\n",
      "Expected Output: -1\n",
      "Actual Output:   -1\n",
      "\n",
      "############# END #############\n",
      "\n",
      "############ INPUT ############\n",
      "\n",
      "arr: [1, 1]\n",
      "target: 2\n",
      "\n",
      "############ OUTPUT ###########\n",
      "\n",
      "Expected Output: -1\n",
      "Actual Output:   -1\n",
      "\n",
      "############# END #############\n",
      "\n"
     ]
    }
   ],
   "source": [
    "def bs_iv(arr, target):\n",
    "    result = -1\n",
    "    start, end = 0, len(arr) - 1\n",
    "    while start <= end:\n",
    "        mid = (start + end) // 2\n",
    "        # update result\n",
    "        if arr[mid] == target:\n",
    "            result = mid\n",
    "        # update pointers\n",
    "        if arr[mid] <= target:\n",
    "            start = mid + 1\n",
    "        else:\n",
    "            end = mid - 1\n",
    "    \n",
    "    return result\n",
    "\n",
    "check(bs_iv, ([1,1,2,2], 1), 1)\n",
    "check(bs_iv, ([0,1,2,3], 4), -1)\n",
    "check(bs_iv, ([1,1], 2), -1)"
   ]
  },
  {
   "attachments": {},
   "cell_type": "markdown",
   "metadata": {},
   "source": [
    "<ins>Approach2: Return `end`<ins>"
   ]
  },
  {
   "cell_type": "code",
   "execution_count": 11,
   "metadata": {},
   "outputs": [
    {
     "name": "stdout",
     "output_type": "stream",
     "text": [
      "############ INPUT ############\n",
      "\n",
      "arr: [1, 1, 2, 2]\n",
      "target: 1\n",
      "\n",
      "############ OUTPUT ###########\n",
      "\n",
      "Expected Output: 1\n",
      "Actual Output:   1\n",
      "\n",
      "############# END #############\n",
      "\n",
      "############ INPUT ############\n",
      "\n",
      "arr: [0, 1, 2, 3]\n",
      "target: 4\n",
      "\n",
      "############ OUTPUT ###########\n",
      "\n",
      "Expected Output: -1\n",
      "Actual Output:   -1\n",
      "\n",
      "############# END #############\n",
      "\n",
      "############ INPUT ############\n",
      "\n",
      "arr: [1, 1]\n",
      "target: 2\n",
      "\n",
      "############ OUTPUT ###########\n",
      "\n",
      "Expected Output: -1\n",
      "Actual Output:   -1\n",
      "\n",
      "############# END #############\n",
      "\n"
     ]
    }
   ],
   "source": [
    "def bs_iv(arr, target):\n",
    "    start, end = 0, len(arr) - 1\n",
    "    while start <= end:\n",
    "        mid = (start + end) // 2\n",
    "        if arr[mid] <= target:\n",
    "            start = mid + 1\n",
    "        else:\n",
    "            end = mid - 1\n",
    "    \n",
    "    if end == -1 or arr[end] != target:\n",
    "        return -1\n",
    "\n",
    "    return end\n",
    "\n",
    "check(bs_iv, ([1,1,2,2], 1), 1)\n",
    "check(bs_iv, ([0,1,2,3], 4), -1)\n",
    "check(bs_iv, ([1,1], 2), -1)"
   ]
  }
 ],
 "metadata": {
  "kernelspec": {
   "display_name": "algo_trading",
   "language": "python",
   "name": "python3"
  },
  "language_info": {
   "codemirror_mode": {
    "name": "ipython",
    "version": 3
   },
   "file_extension": ".py",
   "mimetype": "text/x-python",
   "name": "python",
   "nbconvert_exporter": "python",
   "pygments_lexer": "ipython3",
   "version": "3.10.11"
  },
  "orig_nbformat": 4
 },
 "nbformat": 4,
 "nbformat_minor": 2
}

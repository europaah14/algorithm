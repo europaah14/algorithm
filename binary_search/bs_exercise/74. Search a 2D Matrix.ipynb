{
 "cells": [
  {
   "attachments": {},
   "cell_type": "markdown",
   "metadata": {},
   "source": [
    "### 74. Search a 2D Matrix"
   ]
  },
  {
   "attachments": {},
   "cell_type": "markdown",
   "metadata": {},
   "source": [
    "You are given an `m x n` integer matrix `matrix` with the following two properties:\n",
    "\n",
    "Each row is sorted in non-decreasing order.\n",
    "The first integer of each row is greater than the last integer of the previous row.\n",
    "Given an integer `target`, return `true` if `target` is in `matrix` or `false` otherwise.\n",
    "\n",
    "You must write a solution in `O(log(m * n))` time complexity."
   ]
  },
  {
   "attachments": {},
   "cell_type": "markdown",
   "metadata": {},
   "source": [
    "<ins>Logic<ins>\n",
    "\n",
    "Since the first integer of each row is greater than the last integer of the previous row, we can use either of the following approaches\n",
    "\n",
    "1. Treat it as a flatten array (still ascending) and use 1 Binary Search - O(log(m * n))\n",
    "\n",
    "    - Need to convert index to (row, col) co-ordinate <br><br>\n",
    "\n",
    "2. Use 2 Binary Searches\n",
    "\n",
    "    - Use BS on the first col of matrix: find the first row `i` s.t `matrix[i][0] > target` or the last row `i` s.t `col[i][0] <= target` - O(log(m))\n",
    "\n",
    "    - Use BS on the row found in previous BS: find if the target exists in this row - O(log(n))"
   ]
  },
  {
   "cell_type": "code",
   "execution_count": 18,
   "metadata": {},
   "outputs": [],
   "source": [
    "# helper function\n",
    "def convert_2d_index(index, ncol):\n",
    "    row = index // ncol\n",
    "    col = index % ncol\n",
    "\n",
    "    return row, col\n",
    "\n",
    "# main function\n",
    "def searchMatrix(matrix, target):\n",
    "    # edge case\n",
    "    if not matrix or not matrix[0]:\n",
    "        return False\n",
    "    \n",
    "    # row num & col num\n",
    "    nrow, ncol = len(matrix), len(matrix[0])\n",
    "\n",
    "    # BS\n",
    "    start, end = 0, nrow * ncol - 1\n",
    "    while start <= end:\n",
    "        # get mid point of row, col coordinate\n",
    "        mid = (start + end) // 2\n",
    "        row_mid, col_mid = convert_2d_index(mid, ncol)\n",
    "        if matrix[row_mid][col_mid] == target:\n",
    "            return True\n",
    "        elif matrix[row_mid][col_mid] > target:\n",
    "            end = mid - 1\n",
    "        else:\n",
    "            start = mid + 1\n",
    "    \n",
    "    return False\n",
    "\n",
    "# test function\n",
    "def test(matrix, target, test_name = ''):\n",
    "    print(test_name)\n",
    "    # show matrix\n",
    "    for row in matrix:\n",
    "        print(row)\n",
    "    # show target\n",
    "    print(target)\n",
    "    # show result\n",
    "    print(searchMatrix(matrix, target), '\\n')"
   ]
  },
  {
   "cell_type": "code",
   "execution_count": 24,
   "metadata": {},
   "outputs": [
    {
     "name": "stdout",
     "output_type": "stream",
     "text": [
      "Test: edge case 1\n",
      "7\n",
      "False \n",
      "\n",
      "Test: edge case 1\n",
      "[]\n",
      "7\n",
      "False \n",
      "\n",
      "Test: normal case\n",
      "[1, 3, 5, 7]\n",
      "[7, 8, 9, 9]\n",
      "7\n",
      "True \n",
      "\n",
      "Test: 1x1 matrix\n",
      "[7]\n",
      "7\n",
      "True \n",
      "\n",
      "Test: column vector\n",
      "[1]\n",
      "[7]\n",
      "[8]\n",
      "[9]\n",
      "7\n",
      "True \n",
      "\n",
      "Test: row vector\n",
      "[1, 7, 8, 9]\n",
      "7\n",
      "True \n",
      "\n"
     ]
    }
   ],
   "source": [
    "matrix = []\n",
    "target = 7\n",
    "test(matrix, target, 'Test: edge case 1')\n",
    "\n",
    "matrix = [[]]\n",
    "target = 7\n",
    "test(matrix, target, 'Test: edge case 1')\n",
    "\n",
    "matrix = [[1, 3, 5, 7],\n",
    "          [7, 8, 9, 9]]\n",
    "target = 7\n",
    "test(matrix, target, 'Test: normal case')\n",
    "\n",
    "matrix = [[7]]\n",
    "target = 7\n",
    "test(matrix, target, 'Test: 1x1 matrix')\n",
    "\n",
    "matrix = [[1],\n",
    "          [7],\n",
    "          [8],\n",
    "          [9]]\n",
    "target = 7\n",
    "test(matrix, target, 'Test: column vector')\n",
    "\n",
    "matrix = [[1, 7, 8, 9]]\n",
    "target = 7\n",
    "test(matrix, target, 'Test: row vector')"
   ]
  }
 ],
 "metadata": {
  "kernelspec": {
   "display_name": "ml",
   "language": "python",
   "name": "python3"
  },
  "language_info": {
   "codemirror_mode": {
    "name": "ipython",
    "version": 3
   },
   "file_extension": ".py",
   "mimetype": "text/x-python",
   "name": "python",
   "nbconvert_exporter": "python",
   "pygments_lexer": "ipython3",
   "version": "3.10.11"
  },
  "orig_nbformat": 4
 },
 "nbformat": 4,
 "nbformat_minor": 2
}

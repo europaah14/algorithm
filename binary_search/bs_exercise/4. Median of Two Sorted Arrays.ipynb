{
 "cells": [
  {
   "cell_type": "markdown",
   "metadata": {},
   "source": [
    "### 4. Median of Two Sorted Arrays"
   ]
  },
  {
   "cell_type": "markdown",
   "metadata": {},
   "source": [
    "Given two sorted arrays `nums1` and `nums2` of size `m` and `n` respectively, return the median of the two sorted arrays.\n",
    "\n",
    "The overall run time complexity should be `O(log(m+n))`."
   ]
  },
  {
   "cell_type": "markdown",
   "metadata": {},
   "source": [
    "<ins>Logic<ins>\n",
    "\n",
    "**General Idea**: Partition `nums1` and `nums2` and hence can find the median based on the partitioned cutoff index. I.e., all elements that is before (inclusively) the cutoff index in `nums1` and `nums2` are the first half of the 'merged' array\n",
    "\n",
    "1. Starting with **shorter array**, `a`, use its midpoint `mid1` as the initial cutoff point, since we know the partition size, so the cutoff index for the longer array, `b`, is `mid2 = n_half - mid1 - 2`. \n",
    "\n",
    "    Suppose `mid1` is the correct partition cutoff index, then\n",
    "\n",
    "    `a[0], ..., a[mid1], b[0], ..., b[n_half - mid1 - 2]` constructs the left partition\n",
    "\n",
    "<br><br>\n",
    "\n",
    "2. To determine if the current cutoff index `mid1` is correct, the following needs to be satisfied\n",
    "\n",
    "    `min(a[mid1 + 1], a[mid2 + 1]) >= max(a[mid1], b[mid2])`\n",
    "\n",
    "    Since `a` and `b` are sorted, this can be reduced to $\\Rightarrow$ `a[mid1 + 1] >= b[mid1] and b[mid1 + 1] >= a[mid1]`\n",
    "\n",
    "<br><br>\n",
    "\n",
    "3. Then we can run binary search on `a` by setting `start, end = 0, len(a) - 1`, and use the result of step2 in each loop to find the correct cutoff index\n",
    "    \n",
    "    - Case1: `a[mid1 + 1] < b[mid2]`: this implies the `b[mid2]` is too large, we should include more elements in `a` and less elements in `b` in left partition\n",
    "\n",
    "        $\\Rightarrow$ `start = mid1 + 1`\n",
    "    \n",
    "    - Case2: `b[mid2 + 1] < a[mid1]`: this implies the `a[mid1]` is too large, we should include less elements in `a` and more elements in `b` in left partition\n",
    "\n",
    "        $\\Rightarrow$ `end = mid1 - 1`\n",
    "\n",
    "    - Case3: `a[mid1 + 1] >= b[mid1] and b[mid1 + 1] >= a[mid1]`: this implies `mid1` and  `mid2` are the correct cutoff index, and we can calculate median in next step\n",
    "\n",
    "<br><br>\n",
    "\n",
    "4. Calculate the median based on whether `len(a) + len(b)` is odd or even\n",
    "\n",
    "    - Odd length: median is the first element in right partition, \n",
    "    \n",
    "        i.e., `min(a[mid1 + 1], b[mid2 + 1])`\n",
    "\n",
    "    - Even length: median is the mean of last element in left partition and the first element in right partition, \n",
    "    \n",
    "        i.e., `(max(a[mid1], b[mid2]) + min(a[mid1 + 1], b[mid2 + 1])) / 2`"
   ]
  },
  {
   "cell_type": "markdown",
   "metadata": {},
   "source": [
    "<ins>Remarks<ins>\n",
    "\n",
    "1. why starting with shorter array\n",
    "\n",
    "    If starting with the longer array, the value of `mid2` can be incorrect\n",
    "\n",
    "    e.g., `a = [2, 3, 4], b = []` $\\Rightarrow$ `mid1 = 1, mid2 = 1 - 1 - 2 = -2`, which will require additional work to fix the issue\n",
    "\n",
    "    However, if `a` is the shorter array, such issue will not happen (can prove by contradiction)\n",
    "\n",
    "<br><br>\n",
    "\n",
    "2. why `mid2 = n_half - mid1 - 2 `\n",
    "\n",
    "    Therefore, in order to have `n_half` elements in left partition, we need `n_half - (mid1 + 1)` elements in `b`, which will be `n_half - (mid1 + 1) - 1` as for index\n",
    "\n",
    "<br><br>\n",
    "\n",
    "3. How to treat the out of bound case\n",
    "\n",
    "    It's possible that none / all of the elements in `a` belongs to left partition, \n",
    "    \n",
    "    i.e., `mid1 = -1` or `mid1 + 1 = len(a)` (same for mid2)\n",
    "\n",
    "    This will give out of bound error when access value in `a`, so we need to assign them with special value to overcome this issue\n",
    "\n",
    "    i.e., `a[-1] = -inf` and `a[len(a)]` which still makes the logic work.\n",
    "\n",
    "<br><br>    \n",
    "\n",
    "4. How to set the while loop guard\n",
    "\n",
    "    Normally, while loop guard is set to be `start <= end`. However, when `start > end`, `mid1` has not been placed to correct position.\n",
    "\n",
    "    e,g, suppose the last loop set `start, end = 0, -1`, which implies none of the elements in `a` belongs to left partition. However, when loop is terminated, `mid1` hasn't been set to -1 in while loop.\n",
    "\n",
    "    To overcome this issue, we need to run one extra loop, by setting `while start <= end + 1` or `while True` or manually adjust `mid1` and `mid2`\n"
   ]
  }
 ],
 "metadata": {
  "language_info": {
   "name": "python"
  }
 },
 "nbformat": 4,
 "nbformat_minor": 2
}

{
 "cells": [
  {
   "cell_type": "markdown",
   "metadata": {},
   "source": [
    "### 4. Median of Two Sorted Arrays"
   ]
  },
  {
   "cell_type": "markdown",
   "metadata": {},
   "source": [
    "Given two sorted arrays `nums1` and `nums2` of size `m` and `n` respectively, return the median of the two sorted arrays.\n",
    "\n",
    "The overall run time complexity should be `O(log (m+n))`."
   ]
  },
  {
   "cell_type": "markdown",
   "metadata": {},
   "source": [
    "<ins>Logic<ins>\n",
    "\n",
    "**General Idea**: Partition `nums1` and `nums2` and hence can find the median based on the partitioned cutoff index. I.e., all elements that is before (inclusively) the cutoff index in `nums1` and `nums2` are the first half of the 'merged' array\n",
    "\n",
    "1. Starting with **shorter array**, `a`, use its midpoint `mid1` as the initial cutoff point, since we know the partition size, so the cutoff index for the longer array, `b`, is `mid2 = n_half - mid1 - 2`. Suppose `mid1` is the correct partition cutoff index, then\n",
    "\n",
    "    `a[0], ..., a[mid1], b[0], ..., b[n_half - mid1 - 2]` constructs the left partition\n",
    "\n",
    "2. To determine if the current cutoff index `mid1` is correct, the following needs to be satisfied\n",
    "\n",
    "    `min(a[mid1 + 1], a[mid2 + 1]) >= max(a[mid1], b[mid2])`\n",
    "\n",
    "    Since `a` and `b` are sorted, this can be reduced to $\\Rightarrow$ `a[mid1 + 1] >= b[mid1] and b[mid1 + 1] >= a[mid1]`\n",
    "\n",
    "3. Then we can run binary search on `a` by setting `start, end = 0, len(a) - 1`, and use the result of step2 in each loop to find the correct cutoff index\n",
    "    \n",
    "    - Case1: `a[mid1 + 1] < b[mid2]`: this implies the `b[mid2]` is too large, we should include more elements in `a` and less elements in `b` in left partition\n",
    "\n",
    "        $\\Rightarrow$ `start = mid1 + 1`\n",
    "    \n",
    "    - Case2: `b[mid2 + 1] < a[mid1]`: this implies the `a[mid1]` is too large, we should include less elements in `a` and more elements in `b` in left partition\n",
    "\n",
    "        $\\Rightarrow$ `end = mid1 - 1`\n",
    "\n",
    "    - Case3: `a[mid1 + 1] >= b[mid1] and b[mid1 + 1] >= a[mid1]`: this implies `mid1` and  `mid2` are the correct cutoff index, and we can calculate median in next step\n",
    "\n",
    "4. Calculate the median based on whether `len(a) + len(b)` is the a\n",
    "\n",
    "\n",
    "\n"
   ]
  },
  {
   "cell_type": "markdown",
   "metadata": {},
   "source": [
    "<ins>Remarks<ins>\n",
    "\n",
    "1. why starting with shorter array\n",
    "\n",
    "2. how is nhalf - mid1 - 2 "
   ]
  }
 ],
 "metadata": {
  "language_info": {
   "name": "python"
  }
 },
 "nbformat": 4,
 "nbformat_minor": 2
}

{
 "cells": [
  {
   "attachments": {},
   "cell_type": "markdown",
   "metadata": {},
   "source": [
    "### 528. Random Pick with Weight"
   ]
  },
  {
   "attachments": {},
   "cell_type": "markdown",
   "metadata": {},
   "source": [
    "You are given a 0-indexed array of positive integers `w` where `w[i]` describes the weight of the ith index. **(WLOG,`w[i]` can be float)**\n",
    "\n",
    "You need to implement the function pickIndex(), which randomly picks an index in the range `[0, w.length - 1]` (inclusive) and returns it. The probability of picking an index `i` is `w[i] / sum(w)`.\n",
    "\n",
    "For example, if `w = [1, 3]`, the probability of picking index 0 is 1 / (1 + 3) = 0.25 (i.e., 25%), and the probability of picking index 1 is 3 / (1 + 3) = 0.75 (i.e., 75%).\n"
   ]
  },
  {
   "attachments": {},
   "cell_type": "markdown",
   "metadata": {},
   "source": [
    "<ins>Logic<ins>\n",
    "\n",
    "Use sampling technique from statistics (sampling using CDF)\n",
    "\n",
    "- Create a cumulative distribution of `w`, called `w_cum`\n",
    "\n",
    "- Random generate a number `x` from [0, `w_cum[-1]`)\n",
    "\n",
    "- Find the first index `i` in `w_cum` s.t `w_cum[i] > x`, which corresponds to the index to be picked"
   ]
  },
  {
   "cell_type": "code",
   "execution_count": 4,
   "metadata": {},
   "outputs": [],
   "source": [
    "import random\n",
    "\n",
    "class WeightedPick:\n",
    "\n",
    "    def __init__(self, w):\n",
    "        '''\n",
    "        Initialize cumulative w list\n",
    "        '''\n",
    "        # O(N)\n",
    "        self.w = w\n",
    "        self.cum_w = []\n",
    "        prev = 0\n",
    "        for weight in w:\n",
    "            self.cum_w.append(weight + prev)\n",
    "            prev = self.cum_w[-1]\n",
    "        \n",
    "    def pickIndex(self):\n",
    "        '''\n",
    "        BS to find the first index s.t cum_w[i] > random number\n",
    "        '''\n",
    "        # O(logN) besides edge case part\n",
    "\n",
    "        # edge case handler\n",
    "        # 1. if w is a empty list \n",
    "        # 2. if w has -ve values \n",
    "        # 3. if w are all zero\n",
    "        if (\n",
    "            (not self.cum_w) or \n",
    "            (min(self.cum_w) < 0) or \n",
    "            (not sum(self.cum_w))\n",
    "        ):\n",
    "           return -1\n",
    "\n",
    "        # random number gen\n",
    "        random_num = random.random() * self.cum_w[-1]\n",
    "\n",
    "        # find index using BS\n",
    "        start, end = 0, len(self.cum_w) - 1\n",
    "        while start <= end:\n",
    "            mid = (start + end) // 2\n",
    "            if self.cum_w[mid] > random_num:\n",
    "                end = mid - 1\n",
    "            else:\n",
    "                start = mid + 1\n",
    "        \n",
    "        # since there must exist a number in cum_w which is > random_num, \n",
    "        # so no handler is needed\n",
    "        return start\n",
    "\n",
    "    def compare_distn(self, n_sim=100000):\n",
    "        normalize_w = [round(w / sum(self.w), 2) for w in self.w]\n",
    "        \n",
    "        freqs = [0] * len(normalize_w)\n",
    "        for _ in range(n_sim):\n",
    "            freqs[self.pickIndex()] += 1\n",
    "        distn = [round(freq / n_sim, 2) for freq in freqs]\n",
    "        \n",
    "        print(normalize_w, distn, sep='\\n')"
   ]
  },
  {
   "cell_type": "code",
   "execution_count": 5,
   "metadata": {},
   "outputs": [
    {
     "name": "stdout",
     "output_type": "stream",
     "text": [
      "Test: Edge Case 1\n",
      "[]\n",
      "-1\n",
      "\n",
      "Test: Edge Case 2\n",
      "[1, 2, -10, 4, 0]\n",
      "-1\n",
      "\n",
      "Test: Edge Case 3\n",
      "[0, 0, 0, 0]\n",
      "-1\n",
      "\n",
      "Test: normal case\n",
      "[0.06, 0.13, 0.23, 0.26, 0.32]\n",
      "[0.06, 0.13, 0.22, 0.26, 0.32]\n",
      "\n",
      "Test: len(w) == 1\n",
      "[1.0]\n",
      "[1.0]\n",
      "\n",
      "Test: contain 0\n",
      "[0.0, 0.08, 0.15, 0.0, 0.77]\n",
      "[0.0, 0.08, 0.15, 0.0, 0.77]\n"
     ]
    }
   ],
   "source": [
    "print('Test: Edge Case 1')\n",
    "w = []\n",
    "test = WeightedPick(w)\n",
    "print(w, test.pickIndex(), sep='\\n')\n",
    "\n",
    "print('\\nTest: Edge Case 2')\n",
    "w = [1, 2, -10, 4, 0]\n",
    "test = WeightedPick(w)\n",
    "print(w, test.pickIndex(), sep='\\n')\n",
    "\n",
    "print('\\nTest: Edge Case 3')\n",
    "w = [0, 0, 0, 0]\n",
    "test = WeightedPick(w)\n",
    "print(w, test.pickIndex(), sep='\\n')\n",
    "\n",
    "print('\\nTest: normal case')\n",
    "w = [1, 2, 3.5, 4, 5]\n",
    "test = WeightedPick(w)\n",
    "test.compare_distn()\n",
    "\n",
    "print('\\nTest: len(w) == 1')\n",
    "w = [3]\n",
    "test = WeightedPick(w)\n",
    "test.compare_distn()\n",
    "\n",
    "print('\\nTest: contain 0')\n",
    "w = [0, 1, 2, 0, 10]\n",
    "test = WeightedPick(w)\n",
    "test.compare_distn()\n"
   ]
  }
 ],
 "metadata": {
  "kernelspec": {
   "display_name": "ml",
   "language": "python",
   "name": "python3"
  },
  "language_info": {
   "codemirror_mode": {
    "name": "ipython",
    "version": 3
   },
   "file_extension": ".py",
   "mimetype": "text/x-python",
   "name": "python",
   "nbconvert_exporter": "python",
   "pygments_lexer": "ipython3",
   "version": "3.10.11"
  },
  "orig_nbformat": 4
 },
 "nbformat": 4,
 "nbformat_minor": 2
}
